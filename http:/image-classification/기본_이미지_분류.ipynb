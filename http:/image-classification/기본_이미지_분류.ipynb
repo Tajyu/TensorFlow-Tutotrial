{
  "nbformat": 4,
  "nbformat_minor": 0,
  "metadata": {
    "colab": {
      "name": "기본 이미지 분류.ipynb",
      "provenance": [],
      "collapsed_sections": [],
      "authorship_tag": "ABX9TyOMM29FSQ1g/iecZiIirkoa",
      "include_colab_link": true
    },
    "kernelspec": {
      "name": "python3",
      "display_name": "Python 3"
    },
    "language_info": {
      "name": "python"
    },
    "accelerator": "GPU"
  },
  "cells": [
    {
      "cell_type": "markdown",
      "metadata": {
        "id": "view-in-github",
        "colab_type": "text"
      },
      "source": [
        "<a href=\"https://colab.research.google.com/github/Tajyu/TensorFlow-Tutotrial/blob/main/%EA%B8%B0%EB%B3%B8_%EC%9D%B4%EB%AF%B8%EC%A7%80_%EB%B6%84%EB%A5%98.ipynb\" target=\"_parent\"><img src=\"https://colab.research.google.com/assets/colab-badge.svg\" alt=\"Open In Colab\"/></a>"
      ]
    },
    {
      "cell_type": "code",
      "metadata": {
        "colab": {
          "base_uri": "https://localhost:8080/"
        },
        "id": "KOs9VVcGvgic",
        "outputId": "65339216-4dcd-44ec-d7dd-72f6eed0455c"
      },
      "source": [
        "# 텐서와 케라스를 import\n",
        "import tensorflow as tf\n",
        "from tensorflow import keras\n",
        "\n",
        "# 헬퍼(helper) 라이브러리 import\n",
        "import numpy as np\n",
        "import matplotlib.pyplot as plt\n",
        "\n",
        "print(tf.__version__)"
      ],
      "execution_count": 2,
      "outputs": [
        {
          "output_type": "stream",
          "text": [
            "2.5.0\n"
          ],
          "name": "stdout"
        }
      ]
    },
    {
      "cell_type": "markdown",
      "metadata": {
        "id": "q0vzfywYOHIF"
      },
      "source": [
        "### Fashion Mnist 불러오기"
      ]
    },
    {
      "cell_type": "code",
      "metadata": {
        "colab": {
          "base_uri": "https://localhost:8080/"
        },
        "id": "KWhrg2cDwDRJ",
        "outputId": "ee4c1177-5e9f-480b-93e4-11c13b4cd3cd"
      },
      "source": [
        "fashion_mnist = keras.datasets.fashion_mnist\n",
        "\n",
        "(train_images, train_labels), (test_images, test_labels) = fashion_mnist.load_data()"
      ],
      "execution_count": 3,
      "outputs": [
        {
          "output_type": "stream",
          "text": [
            "Downloading data from https://storage.googleapis.com/tensorflow/tf-keras-datasets/train-labels-idx1-ubyte.gz\n",
            "32768/29515 [=================================] - 0s 0us/step\n",
            "Downloading data from https://storage.googleapis.com/tensorflow/tf-keras-datasets/train-images-idx3-ubyte.gz\n",
            "26427392/26421880 [==============================] - 0s 0us/step\n",
            "Downloading data from https://storage.googleapis.com/tensorflow/tf-keras-datasets/t10k-labels-idx1-ubyte.gz\n",
            "8192/5148 [===============================================] - 0s 0us/step\n",
            "Downloading data from https://storage.googleapis.com/tensorflow/tf-keras-datasets/t10k-images-idx3-ubyte.gz\n",
            "4423680/4422102 [==============================] - 0s 0us/step\n"
          ],
          "name": "stdout"
        }
      ]
    },
    {
      "cell_type": "markdown",
      "metadata": {
        "id": "vRcWaYU6OKhS"
      },
      "source": [
        "### Numpy 형태로 데이터가 들어와있다."
      ]
    },
    {
      "cell_type": "code",
      "metadata": {
        "colab": {
          "base_uri": "https://localhost:8080/"
        },
        "id": "9ltrUulFN108",
        "outputId": "ebda9015-10f4-4b39-da5b-4592633972ef"
      },
      "source": [
        "type(train_images)"
      ],
      "execution_count": 4,
      "outputs": [
        {
          "output_type": "execute_result",
          "data": {
            "text/plain": [
              "numpy.ndarray"
            ]
          },
          "metadata": {
            "tags": []
          },
          "execution_count": 4
        }
      ]
    },
    {
      "cell_type": "code",
      "metadata": {
        "id": "T9xOBdtzOEzN"
      },
      "source": [
        "class_names = [\"T-shirt/top\", \"Trouser\", \"Pullover\", \"Dress\", \"Coat\",\n",
        "               \" Sandal\", \"Shirt\", \"Sneaker\", \"Bag\", \"Ankle boot\"] # 10개"
      ],
      "execution_count": 5,
      "outputs": []
    },
    {
      "cell_type": "markdown",
      "metadata": {
        "id": "VJpGv6AGOu0N"
      },
      "source": [
        "### Label이 숫자 형태로 되어있다."
      ]
    },
    {
      "cell_type": "code",
      "metadata": {
        "colab": {
          "base_uri": "https://localhost:8080/"
        },
        "id": "44-bTJvSOkaL",
        "outputId": "dcc75604-5b24-4e8a-9648-c616e8d25fc4"
      },
      "source": [
        "train_labels[:3]"
      ],
      "execution_count": 6,
      "outputs": [
        {
          "output_type": "execute_result",
          "data": {
            "text/plain": [
              "array([9, 0, 0], dtype=uint8)"
            ]
          },
          "metadata": {
            "tags": []
          },
          "execution_count": 6
        }
      ]
    },
    {
      "cell_type": "markdown",
      "metadata": {
        "id": "ML1F9YEvO5DJ"
      },
      "source": [
        "## 데이터 탐색"
      ]
    },
    {
      "cell_type": "code",
      "metadata": {
        "colab": {
          "base_uri": "https://localhost:8080/"
        },
        "id": "b19vd5paOt9f",
        "outputId": "5f33f892-a088-405a-bb6b-6fdb7c77ec06"
      },
      "source": [
        "train_images.shape # 60,000개의 이미지가 있고, 28 x 28 형태로 되어있다."
      ],
      "execution_count": 7,
      "outputs": [
        {
          "output_type": "execute_result",
          "data": {
            "text/plain": [
              "(60000, 28, 28)"
            ]
          },
          "metadata": {
            "tags": []
          },
          "execution_count": 7
        }
      ]
    },
    {
      "cell_type": "code",
      "metadata": {
        "colab": {
          "base_uri": "https://localhost:8080/"
        },
        "id": "TOgQEN_HO9SH",
        "outputId": "c75ae31c-1e55-42a6-8104-facb42c2c87e"
      },
      "source": [
        "len(train_images) # 훈련세트에는 60,000개의 이미지(레이블)가 있다."
      ],
      "execution_count": 8,
      "outputs": [
        {
          "output_type": "execute_result",
          "data": {
            "text/plain": [
              "60000"
            ]
          },
          "metadata": {
            "tags": []
          },
          "execution_count": 8
        }
      ]
    },
    {
      "cell_type": "code",
      "metadata": {
        "colab": {
          "base_uri": "https://localhost:8080/"
        },
        "id": "PgQPU5qbPAav",
        "outputId": "220df2f8-4257-4788-b162-b32f71f2d188"
      },
      "source": [
        "train_labels # 각 레이블은 0과 9사이의 정수이다."
      ],
      "execution_count": 9,
      "outputs": [
        {
          "output_type": "execute_result",
          "data": {
            "text/plain": [
              "array([9, 0, 0, ..., 3, 0, 5], dtype=uint8)"
            ]
          },
          "metadata": {
            "tags": []
          },
          "execution_count": 9
        }
      ]
    },
    {
      "cell_type": "code",
      "metadata": {
        "colab": {
          "base_uri": "https://localhost:8080/"
        },
        "id": "HfSpWuOVPVu8",
        "outputId": "829cfb82-52ac-48bb-bafd-017ce543234c"
      },
      "source": [
        "test_images.shape # 테스트(레이블) 이미지는 10,000개가 있고, 28 x 28 형태이다. -> 1/6 정도가 테스트 이미지(레이블)이다."
      ],
      "execution_count": 10,
      "outputs": [
        {
          "output_type": "execute_result",
          "data": {
            "text/plain": [
              "(10000, 28, 28)"
            ]
          },
          "metadata": {
            "tags": []
          },
          "execution_count": 10
        }
      ]
    },
    {
      "cell_type": "code",
      "metadata": {
        "colab": {
          "base_uri": "https://localhost:8080/"
        },
        "id": "23EpdumHPeVo",
        "outputId": "a8f8a533-1814-4fa6-8903-c5085a97ca8c"
      },
      "source": [
        "len(test_images) # 테스트 세트에는 10,000개의 이미지(레이블)가 있다."
      ],
      "execution_count": 11,
      "outputs": [
        {
          "output_type": "execute_result",
          "data": {
            "text/plain": [
              "10000"
            ]
          },
          "metadata": {
            "tags": []
          },
          "execution_count": 11
        }
      ]
    },
    {
      "cell_type": "markdown",
      "metadata": {
        "id": "YAMgyK-kP7n6"
      },
      "source": [
        "## 데이터 전처리\n",
        "### 네트워크를 훈련하기 전에 데이터를 전처리해야한다.\n",
        "### 훈련 세트에 있는 첫 번째 이미지를 보면 픽셀 값의 범위가 0 ~ 255 사이라는 것을 알 수 있다."
      ]
    },
    {
      "cell_type": "code",
      "metadata": {
        "colab": {
          "base_uri": "https://localhost:8080/",
          "height": 265
        },
        "id": "mJVT9fkhPyaG",
        "outputId": "e4de1ebb-b79f-41f0-8877-fa1c135ced09"
      },
      "source": [
        "plt.figure()\n",
        "plt.imshow(train_images[0]) # 인덱스는 0부터 시작이라 첫번째(1) 이미지\n",
        "plt.colorbar()\n",
        "plt.grid(False)\n",
        "plt.show()"
      ],
      "execution_count": 12,
      "outputs": [
        {
          "output_type": "display_data",
          "data": {
            "image/png": "[encoded data removed]",
            "text/plain": [
              "<Figure size 432x288 with 2 Axes>"
            ]
          },
          "metadata": {
            "tags": [],
            "needs_background": "light"
          }
        }
      ]
    },
    {
      "cell_type": "code",
      "metadata": {
        "colab": {
          "base_uri": "https://localhost:8080/",
          "height": 264
        },
        "id": "DZr466UpQTdU",
        "outputId": "6b34da16-e28c-4b73-8c17-cff29dde9500"
      },
      "source": [
        "plt.figure()\n",
        "plt.imshow(train_images[9]) # 인덱스는 0부터 시작이라 아홉번째(9) 이미지\n",
        "plt.colorbar()\n",
        "plt.colorbar()\n",
        "plt.grid(False)\n",
        "plt.show()"
      ],
      "execution_count": 13,
      "outputs": [
        {
          "output_type": "display_data",
          "data": {
            "image/png": "[encoded data removed]",
            "text/plain": [
              "<Figure size 432x288 with 3 Axes>"
            ]
          },
          "metadata": {
            "tags": [],
            "needs_background": "light"
          }
        }
      ]
    },
    {
      "cell_type": "markdown",
      "metadata": {
        "id": "upzhYto0Qiil"
      },
      "source": [
        "## 신경망 모델에 주입하기 전에 이 값의 범위를 0 ~ 1 사이로 조정한다.\n",
        "### 이렇게 할려면 255로 나누어야 한다.\n",
        "### 훈련 세트와 테스트 세트를 동일한 방식으로 전처리해야한다. "
      ]
    },
    {
      "cell_type": "code",
      "metadata": {
        "id": "ipAaE4HJQarS"
      },
      "source": [
        " train_images = train_images / 255.0\n",
        " test_images = test_images / 255.0"
      ],
      "execution_count": 14,
      "outputs": []
    },
    {
      "cell_type": "markdown",
      "metadata": {
        "id": "1ZaXA_8BQ7TI"
      },
      "source": [
        "## 훈련 세트에서 처음 25개의 이미지와 그 아래 클래스 이름을 출력.\n",
        "### 데이터 포맷이 맞는지 확인하고 네트워크 구성과 훈련을 할 준비를 한다."
      ]
    },
    {
      "cell_type": "code",
      "metadata": {
        "colab": {
          "base_uri": "https://localhost:8080/",
          "height": 589
        },
        "id": "pccFTg1xQ4vy",
        "outputId": "e7b50bdf-2913-450f-f71f-ed2b8e9dcf1e"
      },
      "source": [
        "plt.figure(figsize = (10, 10)) # figure 크기를 10 x 10으로 한다.\n",
        "for i in range(25):\n",
        "    plt.subplot(5, 5, i + 1) # 5 x 5로 보여진다. -> 5 x 5로 나타나질떄까찌 이미지를 하나씩 증가 \n",
        "    plt.xticks([])\n",
        "    plt.yticks([])\n",
        "    plt.grid(False)\n",
        "    plt.imshow(train_images[i], cmap = plt.cm.binary)\n",
        "    plt.xlabel(class_names[train_labels[i]])\n",
        "\n",
        "plt.show()"
      ],
      "execution_count": 15,
      "outputs": [
        {
          "output_type": "display_data",
          "data": {
            "image/png": "[encoded data removed]",
            "text/plain": [
              "<Figure size 720x720 with 25 Axes>"
            ]
          },
          "metadata": {
            "tags": []
          }
        }
      ]
    },
    {
      "cell_type": "markdown",
      "metadata": {
        "id": "jXPpeKJ5TPoV"
      },
      "source": [
        "## 학습된 모델로 새로운 모델 구성\n",
        "### 신경망 모델을 만들려면 모델의 층을 구성한  다음 모델을 컴파일한다."
      ]
    },
    {
      "cell_type": "markdown",
      "metadata": {
        "id": "tSpyuJRETiza"
      },
      "source": [
        "## 층 설정\n",
        "### 신경망의 기본 구성 요소는 층(layer)이다.\n",
        "### 층(layer)는 주입된 데이터에서 표현을 추출한다.\n",
        "### 아마도 문제를 해결하는데 더 의미있는 표현이 추출 될 것이다.\n",
        "\n",
        "\n",
        "### 대부분 딥러닝은 간단한 층을 연결하여 구성된다.\n",
        "### **tf.keras.layers.Dense**와 같은 층들의 **가중치(parameter)**는 훈련하는 동안 학습된다."
      ]
    },
    {
      "cell_type": "markdown",
      "metadata": {
        "id": "p-NGa2MbU6o3"
      },
      "source": [
        "### **keras.layers.Flatten**는 2차원 배열을 1차원 배열로 변환. 즉, 펼친다."
      ]
    },
    {
      "cell_type": "code",
      "metadata": {
        "id": "FuTtmTG-RxY1"
      },
      "source": [
        "model = keras.Sequential([\n",
        "                        keras.layers.Flatten(input_shape = (28, 28)), # 28 x 28로 된 텐서를 1차원 텐서로 펼친다. -> 28 x 28 = 784개의 텐서로 펼쳐진다.\n",
        "                        keras.layers.Dense(128, activation = 'relu'), # relu: 0보다 작으면 0을 반환, 0보다 크면 1을 반환.\n",
        "                        keras.layers.Dense(10, activation = \"softmax\") # 위에 class_names가 10개기때문에 10으로 설정 / softmax: 가장 큰 값을 1로 바꾸고 나머지는 0으로 바꿔서 반환.\n",
        "])"
      ],
      "execution_count": 16,
      "outputs": []
    },
    {
      "cell_type": "markdown",
      "metadata": {
        "id": "fD89ZvqAVJuC"
      },
      "source": [
        "## 모델 컴파일\n",
        "### 모델을 훈련하기 전에 필요한 설정이 모델 컴파일 단계에서 추가된다.\n",
        "### - **손실 함수(Loss function)**: 훈련하는 동안 모델의 오차를 측정하고,   모델의 학습이 올바른 방향으로 향하도록 이 함수를 최소화 해야한다.\n",
        "### - **옵티마이저(Optimizer)**: 데이터와 손실 함수를 바탕으로 모델의 업데이트 방법을 결정한다.\n",
        "### - **지표(Metrics)**: 훈련 단계와 테스트 단계를 모니터링하기 위해 사용되며, 다음 예에서는 올바르게 분류된 이미지의 비율인 정확도를 사용한다."
      ]
    },
    {
      "cell_type": "code",
      "metadata": {
        "id": "7yxralKOUu4i"
      },
      "source": [
        "model.compile(optimizer = 'adam', # \"옵티마이저로 adam을 사용\" \n",
        "              loss = \"sparse_categorical_crossentropy\", # loss: Error 값. 즉, 낮을수록 결과값이 좋다.\n",
        "              metrics = [\"accuracy\"]) # 정확도\n",
        "              "
      ],
      "execution_count": 17,
      "outputs": []
    },
    {
      "cell_type": "markdown",
      "metadata": {
        "id": "iX640B2oWQUf"
      },
      "source": [
        "## 모델 훈련\n",
        "### 신경망 모델을 훈련하는 단계는 아래와 같다.\n",
        "### **1.** 훈련데이터를 모델에 주입한다. \n",
        "###    - 이 예에서는 **train_images**와 **train_labels** 배열 이다.\n",
        "### **2.** 모델의 이미지와 레이블을 매핑하는 방법을 배운다.\n",
        "### **3.** 테스트 세트에 대한 모델의 예측을 만든다.\n",
        "###    - 이 예에서는 tset_images 배열이다. 이 예측이 test_labels 배열의 레이블과 맞는지 확인한다. "
      ]
    },
    {
      "cell_type": "markdown",
      "metadata": {
        "id": "-h77UGwcW6Fp"
      },
      "source": [
        "### **훈련을 시작**하기 위해 **model.fit** 메소드를 호출하면 모델이 훈련 데이터를 학습한다."
      ]
    },
    {
      "cell_type": "code",
      "metadata": {
        "colab": {
          "base_uri": "https://localhost:8080/"
        },
        "id": "J-8qxRXTWL5k",
        "outputId": "ef3fe3b3-23ef-4dd8-ce2a-ff066757f332"
      },
      "source": [
        "model.fit(train_images, train_labels, epochs = 10)"
      ],
      "execution_count": 18,
      "outputs": [
        {
          "output_type": "stream",
          "text": [
            "Epoch 1/10\n",
            "1875/1875 [==============================] - 6s 2ms/step - loss: 0.5023 - accuracy: 0.8244\n",
            "Epoch 2/10\n",
            "1875/1875 [==============================] - 3s 2ms/step - loss: 0.3739 - accuracy: 0.8651\n",
            "Epoch 3/10\n",
            "1875/1875 [==============================] - 3s 2ms/step - loss: 0.3380 - accuracy: 0.8774\n",
            "Epoch 4/10\n",
            "1875/1875 [==============================] - 3s 2ms/step - loss: 0.3123 - accuracy: 0.8849\n",
            "Epoch 5/10\n",
            "1875/1875 [==============================] - 3s 2ms/step - loss: 0.2963 - accuracy: 0.8916\n",
            "Epoch 6/10\n",
            "1875/1875 [==============================] - 3s 2ms/step - loss: 0.2795 - accuracy: 0.8965\n",
            "Epoch 7/10\n",
            "1875/1875 [==============================] - 3s 2ms/step - loss: 0.2704 - accuracy: 0.8984\n",
            "Epoch 8/10\n",
            "1875/1875 [==============================] - 3s 2ms/step - loss: 0.2568 - accuracy: 0.9046\n",
            "Epoch 9/10\n",
            "1875/1875 [==============================] - 3s 2ms/step - loss: 0.2488 - accuracy: 0.9077\n",
            "Epoch 10/10\n",
            "1875/1875 [==============================] - 3s 2ms/step - loss: 0.2400 - accuracy: 0.9101\n"
          ],
          "name": "stdout"
        },
        {
          "output_type": "execute_result",
          "data": {
            "text/plain": [
              "<tensorflow.python.keras.callbacks.History at 0x7fe3700cff10>"
            ]
          },
          "metadata": {
            "tags": []
          },
          "execution_count": 18
        }
      ]
    },
    {
      "cell_type": "code",
      "metadata": {
        "colab": {
          "base_uri": "https://localhost:8080/"
        },
        "id": "49xxARW-XJ1o",
        "outputId": "46ac8646-573c-43b5-812b-f0cbc0082531"
      },
      "source": [
        "test_loss, test_acc = model.evaluate(test_images, test_labels, verbose = 2)\n",
        "print(\"\\n테스트 정확도: \", test_acc)\n",
        "# 결과값과 위의 accuracy가 차이난다. => 오버피팅 발생. (accuracy : 0.9331 vs test_acc : 0.8809) => (실행할때마다 값이 다름.)"
      ],
      "execution_count": 19,
      "outputs": [
        {
          "output_type": "stream",
          "text": [
            "313/313 - 0s - loss: 0.3285 - accuracy: 0.8841\n",
            "\n",
            "테스트 정확도:  0.8841000199317932\n"
          ],
          "name": "stdout"
        }
      ]
    },
    {
      "cell_type": "markdown",
      "metadata": {
        "id": "ng0q935RpRUU"
      },
      "source": [
        "## 예측 만들기"
      ]
    },
    {
      "cell_type": "markdown",
      "metadata": {
        "id": "tQ9Gs_DEpVWw"
      },
      "source": [
        "### 훈련된 모델을 사용하여 이미지에 대한 예측을 만들 수 있다."
      ]
    },
    {
      "cell_type": "code",
      "metadata": {
        "id": "2k7BPudG6c5c"
      },
      "source": [
        "predictions = model.predict(test_images)"
      ],
      "execution_count": 32,
      "outputs": []
    },
    {
      "cell_type": "markdown",
      "metadata": {
        "id": "lTP7zAWLrCCP"
      },
      "source": [
        "### 여기서는 테스트 세트에 있는 각 이미지의 레이블을 예측."
      ]
    },
    {
      "cell_type": "code",
      "metadata": {
        "colab": {
          "base_uri": "https://localhost:8080/"
        },
        "id": "qPBy6m7cqMRW",
        "outputId": "92b6e69d-89bb-4f27-a5f2-f9fc4a93c0dd"
      },
      "source": [
        "predictions[0]"
      ],
      "execution_count": 33,
      "outputs": [
        {
          "output_type": "execute_result",
          "data": {
            "text/plain": [
              "array([6.1217371e-08, 1.3634563e-11, 1.3110611e-10, 9.0250772e-11,\n",
              "       3.4317602e-10, 7.9375150e-04, 3.9842504e-08, 1.1411908e-02,\n",
              "       6.5830911e-08, 9.8779404e-01], dtype=float32)"
            ]
          },
          "metadata": {
            "tags": []
          },
          "execution_count": 33
        }
      ]
    },
    {
      "cell_type": "markdown",
      "metadata": {
        "id": "-xOuuX2grNsP"
      },
      "source": [
        "### 위의 예측은 10개의 숫자 배열로 나타난다.\n",
        "### 이 값은 10개의 fashion 레이블을 나타낸다."
      ]
    },
    {
      "cell_type": "markdown",
      "metadata": {
        "id": "EGnEbEzsrp7n"
      },
      "source": [
        "### 모델은 이 이미지가 앵크 부트(class_name[9]) 라고 가장 확신한다. => 결과값으로 9가 나온다."
      ]
    },
    {
      "cell_type": "code",
      "metadata": {
        "colab": {
          "base_uri": "https://localhost:8080/"
        },
        "id": "RFzY_wI9qhnU",
        "outputId": "4d48a0e8-b37c-44fc-b999-dcafa456b519"
      },
      "source": [
        "np.argmax(predictions[0]) # 위의 결과값에서 소수점이 제일 작은값은 10번째이므로 인덱스 순으로해서 9번째라서 값이 9가 나온다."
      ],
      "execution_count": 34,
      "outputs": [
        {
          "output_type": "execute_result",
          "data": {
            "text/plain": [
              "9"
            ]
          },
          "metadata": {
            "tags": []
          },
          "execution_count": 34
        }
      ]
    },
    {
      "cell_type": "markdown",
      "metadata": {
        "id": "esU60PZkrn8t"
      },
      "source": [
        "### 모델은 이 이미지가 앵크 부트(class_name[9]) 라고 가장 확신한다. => 결과값으로 9가 나온다."
      ]
    },
    {
      "cell_type": "code",
      "metadata": {
        "colab": {
          "base_uri": "https://localhost:8080/"
        },
        "id": "xWbwQxm-qoG4",
        "outputId": "c8d5ac4a-8542-41f4-b993-9741085ca6c5"
      },
      "source": [
        "test_labels[0] # 위의 결과값에서 소수점이 제일 작은값은 10번째이므로 인덱스 순으로해서 9번째라서 값이 9가 나온다."
      ],
      "execution_count": 35,
      "outputs": [
        {
          "output_type": "execute_result",
          "data": {
            "text/plain": [
              "9"
            ]
          },
          "metadata": {
            "tags": []
          },
          "execution_count": 35
        }
      ]
    },
    {
      "cell_type": "markdown",
      "metadata": {
        "id": "PV10YTIYrz9S"
      },
      "source": [
        "### 10개 클래스에 대한 예측을 모두 그래프로 표현."
      ]
    },
    {
      "cell_type": "code",
      "metadata": {
        "id": "pVc2R31Oqsbx"
      },
      "source": [
        "def plot_image(i, predictions_array, true_label, img):\n",
        "    predictions_array, true_label, img = predictions_array[i], true_label[i], img[i]\n",
        "    plt.grid(False)\n",
        "    plt.xticks([])\n",
        "    plt.yticks([])\n",
        "\n",
        "    plt.imshow(img, cmap = plt.cm.binary)\n",
        "\n",
        "    predicted_label = np.argmax(predictions_array)\n",
        "    if predicted_label == true_label:\n",
        "        color = \"blue\"\n",
        "    else:\n",
        "        color = \"red\"\n",
        "    \n",
        "    plt.xlabel(\"{} {:2.0f}% ({})\".format(class_names[predicted_label],  # {} 사이는 띄우지 말자 KeyError 발생한다.\n",
        "                                        100 * np.max(predictions_array),\n",
        "                                        class_names[true_label]),\n",
        "                                        color = color)\n",
        "\n",
        "\n",
        "def plot_value_arrray(i, predictions_array, true_label):\n",
        "    predictions_array, true_label = predictions_array[i], true_label[i]\n",
        "    plt.grid(False)\n",
        "    plt.xticks([])\n",
        "    plt.yticks([])\n",
        "    thisplot = plt.bar(range(10), predictions_array, color = \"#777777\")\n",
        "    plt.ylim([0, 1])\n",
        "    predicted_label = np.argmax(predictions_array)\n",
        "\n",
        "    thisplot[predicted_label].set_color(\"red\")\n",
        "    thisplot[true_label].set_color(\"blue\")"
      ],
      "execution_count": 72,
      "outputs": []
    },
    {
      "cell_type": "markdown",
      "metadata": {
        "id": "H-3RODlouLNm"
      },
      "source": [
        "### 0번째 원소의 이미지, 예측, 신뢰도 점수 배열 확인."
      ]
    },
    {
      "cell_type": "code",
      "metadata": {
        "colab": {
          "base_uri": "https://localhost:8080/",
          "height": 203
        },
        "id": "oa4HT4ybuIlO",
        "outputId": "201bedd6-e938-47a7-f07c-f7bc14d9bea2"
      },
      "source": [
        "i = 0\n",
        "plt.figure(figsize = (6, 3))\n",
        "plt.subplot(1, 2, 1)\n",
        "plot_image(i, predictions, test_labels, test_images)\n",
        "\n",
        "plt.subplot(1, 2, 2)\n",
        "plot_value_arrray(i, predictions, test_labels)\n",
        "plt.show()"
      ],
      "execution_count": 74,
      "outputs": [
        {
          "output_type": "display_data",
          "data": {
            "image/png": "[encoded data removed]",
            "text/plain": [
              "<Figure size 432x216 with 2 Axes>"
            ]
          },
          "metadata": {
            "tags": []
          }
        }
      ]
    },
    {
      "cell_type": "markdown",
      "metadata": {
        "id": "C-BIgVmr2czM"
      },
      "source": [
        "### 다른 이미지의 예측을 출력해보자. 바르게 예측된 레이블은 파란색이고 잘 못 예측된 레이블은 빨강색이다.\n",
        "### 숫자는 예측 레이블의 신뢰도 퍼센트(정확도)이다.\n",
        "### 신뢰도 점수가 높을 때도 잘 못 예측 할 수 있다."
      ]
    },
    {
      "cell_type": "code",
      "metadata": {
        "colab": {
          "base_uri": "https://localhost:8080/",
          "height": 203
        },
        "id": "MH3jQon0uq2b",
        "outputId": "d27d88e9-3dc9-40d9-dcb6-7a9d996fc33c"
      },
      "source": [
        "i = 12\n",
        "plt.figure(figsize = (6, 3))\n",
        "plt.subplot(1, 2, 1)\n",
        "plot_image(i, predictions, test_labels, test_images)\n",
        "\n",
        "plt.subplot(1, 2, 2)\n",
        "plot_value_arrray(i, predictions, test_labels)\n",
        "plt.show()"
      ],
      "execution_count": 75,
      "outputs": [
        {
          "output_type": "display_data",
          "data": {
            "image/png": "[encoded data removed]",
            "text/plain": [
              "<Figure size 432x216 with 2 Axes>"
            ]
          },
          "metadata": {
            "tags": []
          }
        }
      ]
    },
    {
      "cell_type": "code",
      "metadata": {
        "colab": {
          "base_uri": "https://localhost:8080/",
          "height": 589
        },
        "id": "o6ca_ttR2KpG",
        "outputId": "d92b2166-5361-47ab-baf4-ea97c6036484"
      },
      "source": [
        "# 처음 X 개의 테스트 이미지와 예측 레이블, 진짜 레이블을 출력.\n",
        "# 올바른 예측은 파랑, 잘못된 예측은 빨강으로 나타난다.\n",
        "\n",
        "num_rows = 5\n",
        "num_cols = 3\n",
        "num_images = num_rows * num_cols\n",
        "plt.figure(figsize = (2 * 2* num_cols, 2 * num_rows))\n",
        "\n",
        "for i in range(num_images):\n",
        "    plt.subplot(num_rows, 2 * num_cols, 2 * i + 1)\n",
        "    plot_image(i, predictions, test_labels, test_images)\n",
        "    plt.subplot(num_rows, 2 * num_cols, 2 * i + 2)\n",
        "    plot_value_arrray(i, predictions, test_labels)\n",
        "\n",
        "plt.show()"
      ],
      "execution_count": 78,
      "outputs": [
        {
          "output_type": "display_data",
          "data": {
            "image/png": "[encoded data removed]",
            "text/plain": [
              "<Figure size 864x720 with 30 Axes>"
            ]
          },
          "metadata": {
            "tags": []
          }
        }
      ]
    },
    {
      "cell_type": "markdown",
      "metadata": {
        "id": "DFO-GQha-BB-"
      },
      "source": [
        "## 훈련된 모델을 사용하여 한 이미지에 대한 예측을 만든다."
      ]
    },
    {
      "cell_type": "code",
      "metadata": {
        "colab": {
          "base_uri": "https://localhost:8080/"
        },
        "id": "dC00IXPj9Izr",
        "outputId": "7ea0f688-0da4-474c-c3e8-aadd5e1c8b5b"
      },
      "source": [
        "# 테스트 세트에서 이미지 하느를 선택한다.\n",
        "img = test_images[0]\n",
        "\n",
        "print(img.shape)"
      ],
      "execution_count": 79,
      "outputs": [
        {
          "output_type": "stream",
          "text": [
            "(28, 28)\n"
          ],
          "name": "stdout"
        }
      ]
    },
    {
      "cell_type": "markdown",
      "metadata": {
        "id": "D7_oFU-N-Man"
      },
      "source": [
        "## **tf.keras 모델**은 한 번에 샘플의 묶음 또는 배치(batch)로 예측을 만드는데 최적화되어 있다.\n",
        "## **하나의 이미지를 사용**할 때에도 **2차원 배열**로 만들어야한다."
      ]
    },
    {
      "cell_type": "code",
      "metadata": {
        "colab": {
          "base_uri": "https://localhost:8080/"
        },
        "id": "RKWqGfIB-Jsf",
        "outputId": "c4612272-8257-43ec-d46b-46aa8e200087"
      },
      "source": [
        "# 이미지 하나만 사용할 떄도 배치에 추가한다.\n",
        "img = (np.expand_dims(img, 0)) # \"np.expand\"로 2차원에 배치를 추가\n",
        "\n",
        "print(img.shape)"
      ],
      "execution_count": 80,
      "outputs": [
        {
          "output_type": "stream",
          "text": [
            "(1, 28, 28)\n"
          ],
          "name": "stdout"
        }
      ]
    },
    {
      "cell_type": "markdown",
      "metadata": {
        "id": "5O9bnRD0-s4c"
      },
      "source": [
        "### 이제 이 이미지의 예측을 만든다."
      ]
    },
    {
      "cell_type": "code",
      "metadata": {
        "colab": {
          "base_uri": "https://localhost:8080/"
        },
        "id": "lSGOx4xH-hdK",
        "outputId": "26dfeafa-a33c-4a29-dad0-3c4beca93911"
      },
      "source": [
        "predictions_single = model.predict(img)\n",
        "\n",
        "print(predictions_single) # 제일 마지막 값이 가장 크다."
      ],
      "execution_count": 81,
      "outputs": [
        {
          "output_type": "stream",
          "text": [
            "[[6.1217371e-08 1.3634563e-11 1.3110611e-10 9.0250939e-11 3.4317471e-10\n",
            "  7.9375150e-04 3.9842352e-08 1.1411908e-02 6.5831038e-08 9.8779404e-01]]\n"
          ],
          "name": "stdout"
        }
      ]
    },
    {
      "cell_type": "code",
      "metadata": {
        "colab": {
          "base_uri": "https://localhost:8080/",
          "height": 300
        },
        "id": "l-js5n9G-2Iu",
        "outputId": "6c60a574-d0e6-40ae-d201-5b0e743536f3"
      },
      "source": [
        "plot_value_arrray(0, predictions_single, test_labels)\n",
        "_ = plt.xticks(range(10), class_names, rotation = 45)"
      ],
      "execution_count": 83,
      "outputs": [
        {
          "output_type": "display_data",
          "data": {
            "image/png": "[encoded data removed]",
            "text/plain": [
              "<Figure size 432x288 with 1 Axes>"
            ]
          },
          "metadata": {
            "tags": [],
            "needs_background": "light"
          }
        }
      ]
    },
    {
      "cell_type": "markdown",
      "metadata": {
        "id": "-l60gevv_Y61"
      },
      "source": [
        "### **model.predict**는 2차원 넘파이 배열을 반환하므로 첫 번째 이미지의 예측을 선택한다."
      ]
    },
    {
      "cell_type": "code",
      "metadata": {
        "colab": {
          "base_uri": "https://localhost:8080/"
        },
        "id": "klxpiC60_SAZ",
        "outputId": "1ad8440d-94d5-4399-e654-7e5bdca3f35d"
      },
      "source": [
        "np.argmax(predictions_single[0]) # 인덱스 값으로 \"9\"가 가장 정확도가 높다고 출력 된다."
      ],
      "execution_count": 84,
      "outputs": [
        {
          "output_type": "execute_result",
          "data": {
            "text/plain": [
              "9"
            ]
          },
          "metadata": {
            "tags": []
          },
          "execution_count": 84
        }
      ]
    },
    {
      "cell_type": "code",
      "metadata": {
        "id": "hV2zoWX8_iso"
      },
      "source": [
        ""
      ],
      "execution_count": null,
      "outputs": []
    }
  ]
}

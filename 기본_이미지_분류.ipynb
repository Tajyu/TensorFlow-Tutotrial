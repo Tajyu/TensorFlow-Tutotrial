{
  "nbformat": 4,
  "nbformat_minor": 0,
  "metadata": {
    "colab": {
      "name": "기본 이미지 분류.ipynb",
      "provenance": [],
      "collapsed_sections": [],
      "authorship_tag": "ABX9TyPYfpyqomZrTPGeD53hVmdw",
      "include_colab_link": true
    },
    "kernelspec": {
      "name": "python3",
      "display_name": "Python 3"
    },
    "language_info": {
      "name": "python"
    },
    "accelerator": "GPU"
  },
  "cells": [
    {
      "cell_type": "markdown",
      "metadata": {
        "id": "view-in-github",
        "colab_type": "text"
      },
      "source": [
        "<a href=\"https://colab.research.google.com/github/Tajyu/TensorFlow-Tutotrial/blob/main/%EA%B8%B0%EB%B3%B8_%EC%9D%B4%EB%AF%B8%EC%A7%80_%EB%B6%84%EB%A5%98.ipynb\" target=\"_parent\"><img src=\"https://colab.research.google.com/assets/colab-badge.svg\" alt=\"Open In Colab\"/></a>"
      ]
    },
    {
      "cell_type": "code",
      "metadata": {
        "colab": {
          "base_uri": "https://localhost:8080/"
        },
        "id": "KOs9VVcGvgic",
        "outputId": "ed49613c-6520-4b20-bd6b-eb2469afa6e9"
      },
      "source": [
        "# 텐서와 케라스를 import\n",
        "import tensorflow as tf\n",
        "from tensorflow import keras\n",
        "\n",
        "# 헬퍼(helper) 라이브러리 import\n",
        "import numpy as np\n",
        "import matplotlib.pyplot as plt\n",
        "\n",
        "print(tf.__version__)"
      ],
      "execution_count": 4,
      "outputs": [
        {
          "output_type": "stream",
          "text": [
            "2.5.0\n"
          ],
          "name": "stdout"
        }
      ]
    },
    {
      "cell_type": "markdown",
      "metadata": {
        "id": "q0vzfywYOHIF"
      },
      "source": [
        "### Fashion Mnist 불러오기"
      ]
    },
    {
      "cell_type": "code",
      "metadata": {
        "colab": {
          "base_uri": "https://localhost:8080/"
        },
        "id": "KWhrg2cDwDRJ",
        "outputId": "2ec17b34-3481-4a2c-9b23-f728a2556751"
      },
      "source": [
        "fashion_mnist = keras.datasets.fashion_mnist\n",
        "\n",
        "(train_images, train_labels), (test_images, test_labels) = fashion_mnist.load_data()"
      ],
      "execution_count": 5,
      "outputs": [
        {
          "output_type": "stream",
          "text": [
            "Downloading data from https://storage.googleapis.com/tensorflow/tf-keras-datasets/train-labels-idx1-ubyte.gz\n",
            "32768/29515 [=================================] - 0s 0us/step\n",
            "Downloading data from https://storage.googleapis.com/tensorflow/tf-keras-datasets/train-images-idx3-ubyte.gz\n",
            "26427392/26421880 [==============================] - 0s 0us/step\n",
            "Downloading data from https://storage.googleapis.com/tensorflow/tf-keras-datasets/t10k-labels-idx1-ubyte.gz\n",
            "8192/5148 [===============================================] - 0s 0us/step\n",
            "Downloading data from https://storage.googleapis.com/tensorflow/tf-keras-datasets/t10k-images-idx3-ubyte.gz\n",
            "4423680/4422102 [==============================] - 0s 0us/step\n"
          ],
          "name": "stdout"
        }
      ]
    },
    {
      "cell_type": "markdown",
      "metadata": {
        "id": "vRcWaYU6OKhS"
      },
      "source": [
        "### Numpy 형태로 데이터가 들어와있다."
      ]
    },
    {
      "cell_type": "code",
      "metadata": {
        "colab": {
          "base_uri": "https://localhost:8080/"
        },
        "id": "9ltrUulFN108",
        "outputId": "37caedd0-ac71-45aa-bd3c-72ef1de0ea10"
      },
      "source": [
        "type(train_images)"
      ],
      "execution_count": 6,
      "outputs": [
        {
          "output_type": "execute_result",
          "data": {
            "text/plain": [
              "numpy.ndarray"
            ]
          },
          "metadata": {
            "tags": []
          },
          "execution_count": 6
        }
      ]
    },
    {
      "cell_type": "code",
      "metadata": {
        "id": "T9xOBdtzOEzN"
      },
      "source": [
        "class_names = [\"T-shirt/top\", \"Trouser\", \"Pullover\", \"Dress\", \"Coat\",\n",
        "               \" Sandal\", \"Shirt\", \"Sneaker\", \"Bag\", \"Ankle boot\"] # 10개"
      ],
      "execution_count": 7,
      "outputs": []
    },
    {
      "cell_type": "markdown",
      "metadata": {
        "id": "VJpGv6AGOu0N"
      },
      "source": [
        "### Label이 숫자 형태로 되어있다."
      ]
    },
    {
      "cell_type": "code",
      "metadata": {
        "colab": {
          "base_uri": "https://localhost:8080/"
        },
        "id": "44-bTJvSOkaL",
        "outputId": "7a64b5b9-bce6-42a2-98bd-ba1be1dadafb"
      },
      "source": [
        "train_labels[:3]"
      ],
      "execution_count": 8,
      "outputs": [
        {
          "output_type": "execute_result",
          "data": {
            "text/plain": [
              "array([9, 0, 0], dtype=uint8)"
            ]
          },
          "metadata": {
            "tags": []
          },
          "execution_count": 8
        }
      ]
    },
    {
      "cell_type": "markdown",
      "metadata": {
        "id": "ML1F9YEvO5DJ"
      },
      "source": [
        "## 데이터 탐색"
      ]
    },
    {
      "cell_type": "code",
      "metadata": {
        "colab": {
          "base_uri": "https://localhost:8080/"
        },
        "id": "b19vd5paOt9f",
        "outputId": "d320edd7-2e93-4f38-94da-43e06b06a94a"
      },
      "source": [
        "train_images.shape # 60,000개의 이미지가 있고, 28 x 28 형태로 되어있다."
      ],
      "execution_count": 9,
      "outputs": [
        {
          "output_type": "execute_result",
          "data": {
            "text/plain": [
              "(60000, 28, 28)"
            ]
          },
          "metadata": {
            "tags": []
          },
          "execution_count": 9
        }
      ]
    },
    {
      "cell_type": "code",
      "metadata": {
        "colab": {
          "base_uri": "https://localhost:8080/"
        },
        "id": "TOgQEN_HO9SH",
        "outputId": "0d024e98-ed68-453c-ca3c-2f38de0ce6c6"
      },
      "source": [
        "len(train_images) # 훈련세트에는 60,000개의 이미지(레이블)가 있다."
      ],
      "execution_count": 10,
      "outputs": [
        {
          "output_type": "execute_result",
          "data": {
            "text/plain": [
              "60000"
            ]
          },
          "metadata": {
            "tags": []
          },
          "execution_count": 10
        }
      ]
    },
    {
      "cell_type": "code",
      "metadata": {
        "colab": {
          "base_uri": "https://localhost:8080/"
        },
        "id": "PgQPU5qbPAav",
        "outputId": "6b4a4ca1-a71e-4999-f684-c5d90779bea2"
      },
      "source": [
        "train_labels # 각 레이블은 0과 9사이의 정수이다."
      ],
      "execution_count": 11,
      "outputs": [
        {
          "output_type": "execute_result",
          "data": {
            "text/plain": [
              "array([9, 0, 0, ..., 3, 0, 5], dtype=uint8)"
            ]
          },
          "metadata": {
            "tags": []
          },
          "execution_count": 11
        }
      ]
    },
    {
      "cell_type": "code",
      "metadata": {
        "colab": {
          "base_uri": "https://localhost:8080/"
        },
        "id": "HfSpWuOVPVu8",
        "outputId": "a0831fcc-165c-4e1a-e7fd-f28c36cde302"
      },
      "source": [
        "test_images.shape # 테스트(레이블) 이미지는 10,000개가 있고, 28 x 28 형태이다. -> 1/6 정도가 테스트 이미지(레이블)이다."
      ],
      "execution_count": 12,
      "outputs": [
        {
          "output_type": "execute_result",
          "data": {
            "text/plain": [
              "(10000, 28, 28)"
            ]
          },
          "metadata": {
            "tags": []
          },
          "execution_count": 12
        }
      ]
    },
    {
      "cell_type": "code",
      "metadata": {
        "colab": {
          "base_uri": "https://localhost:8080/"
        },
        "id": "23EpdumHPeVo",
        "outputId": "9378b62a-9b78-4923-9206-f8663864badf"
      },
      "source": [
        "len(test_images) # 테스트 세트에는 10,000개의 이미지(레이블)가 있다."
      ],
      "execution_count": 13,
      "outputs": [
        {
          "output_type": "execute_result",
          "data": {
            "text/plain": [
              "10000"
            ]
          },
          "metadata": {
            "tags": []
          },
          "execution_count": 13
        }
      ]
    },
    {
      "cell_type": "markdown",
      "metadata": {
        "id": "YAMgyK-kP7n6"
      },
      "source": [
        "## 데이터 전처리\n",
        "### 네트워크를 훈련하기 전에 데이터를 전처리해야한다.\n",
        "### 훈련 세트에 있는 첫 번째 이미지를 보면 픽셀 값의 범위가 0 ~ 255 사이라는 것을 알 수 있다."
      ]
    },
    {
      "cell_type": "code",
      "metadata": {
        "colab": {
          "base_uri": "https://localhost:8080/",
          "height": 265
        },
        "id": "mJVT9fkhPyaG",
        "outputId": "02d7aa30-a450-47a8-ca46-2a2956cf49de"
      },
      "source": [
        "plt.figure()\n",
        "plt.imshow(train_images[0]) # 인덱스는 0부터 시작이라 첫번째(1) 이미지\n",
        "plt.colorbar()\n",
        "plt.grid(False)\n",
        "plt.show()"
      ],
      "execution_count": 14,
      "outputs": [
        {
          "output_type": "display_data",
          "data": {
            "image/png": "[encoded data removed]",
            "text/plain": [
              "<Figure size 432x288 with 2 Axes>"
            ]
          },
          "metadata": {
            "tags": [],
            "needs_background": "light"
          }
        }
      ]
    },
    {
      "cell_type": "code",
      "metadata": {
        "colab": {
          "base_uri": "https://localhost:8080/",
          "height": 264
        },
        "id": "DZr466UpQTdU",
        "outputId": "a8079346-bfa6-485a-cdd2-de779b918a6c"
      },
      "source": [
        "plt.figure()\n",
        "plt.imshow(train_images[9]) # 인덱스는 0부터 시작이라 아홉번째(9) 이미지\n",
        "plt.colorbar()\n",
        "plt.colorbar()\n",
        "plt.grid(False)\n",
        "plt.show()"
      ],
      "execution_count": 15,
      "outputs": [
        {
          "output_type": "display_data",
          "data": {
            "image/png": "[encoded data removed]",
            "text/plain": [
              "<Figure size 432x288 with 3 Axes>"
            ]
          },
          "metadata": {
            "tags": [],
            "needs_background": "light"
          }
        }
      ]
    },
    {
      "cell_type": "markdown",
      "metadata": {
        "id": "upzhYto0Qiil"
      },
      "source": [
        "## 신경망 모델에 주입하기 전에 이 값의 범위를 0 ~ 1 사이로 조정한다.\n",
        "### 이렇게 할려면 255로 나누어야 한다.\n",
        "### 훈련 세트와 테스트 세트를 동일한 방식으로 전처리해야한다. "
      ]
    },
    {
      "cell_type": "code",
      "metadata": {
        "id": "ipAaE4HJQarS"
      },
      "source": [
        " train_images = train_images / 255.0\n",
        " test_images = test_images / 255.0"
      ],
      "execution_count": 16,
      "outputs": []
    },
    {
      "cell_type": "markdown",
      "metadata": {
        "id": "1ZaXA_8BQ7TI"
      },
      "source": [
        "## 훈련 세트에서 처음 25개의 이미지와 그 아래 클래스 이름을 출력.\n",
        "### 데이터 포맷이 맞는지 확인하고 네트워크 구성과 훈련을 할 준비를 한다."
      ]
    },
    {
      "cell_type": "code",
      "metadata": {
        "colab": {
          "base_uri": "https://localhost:8080/",
          "height": 589
        },
        "id": "pccFTg1xQ4vy",
        "outputId": "d0c0b0ae-38c5-4769-eb00-3f155917721d"
      },
      "source": [
        "plt.figure(figsize = (10, 10)) # figure 크기를 10 x 10으로 한다.\n",
        "for i in range(25):\n",
        "    plt.subplot(5, 5, i + 1) # 5 x 5로 보여진다. -> 5 x 5로 나타나질떄까찌 이미지를 하나씩 증가 \n",
        "    plt.xticks([])\n",
        "    plt.yticks([])\n",
        "    plt.grid(False)\n",
        "    plt.imshow(train_images[i], cmap = plt.cm.binary)\n",
        "    plt.xlabel(class_names[train_labels[i]])\n",
        "\n",
        "plt.show()"
      ],
      "execution_count": 17,
      "outputs": [
        {
          "output_type": "display_data",
          "data": {
            "image/png": "[encoded data removed]",
            "text/plain": [
              "<Figure size 720x720 with 25 Axes>"
            ]
          },
          "metadata": {
            "tags": []
          }
        }
      ]
    },
    {
      "cell_type": "markdown",
      "metadata": {
        "id": "jXPpeKJ5TPoV"
      },
      "source": [
        "## 학습된 모델로 새로운 모델 구성\n",
        "### 신경망 모델을 만들려면 모델의 층을 구성한  다음 모델을 컴파일한다."
      ]
    },
    {
      "cell_type": "markdown",
      "metadata": {
        "id": "tSpyuJRETiza"
      },
      "source": [
        "## 층 설정\n",
        "### 신경망의 기본 구성 요소는 층(layer)이다.\n",
        "### 층(layer)는 주입된 데이터에서 표현을 추출한다.\n",
        "### 아마도 문제를 해결하는데 더 의미있는 표현이 추출 될 것이다.\n",
        "\n",
        "\n",
        "### 대부분 딥러닝은 간단한 층을 연결하여 구성된다.\n",
        "### **tf.keras.layers.Dense**와 같은 층들의 **가중치(parameter)**는 훈련하는 동안 학습된다."
      ]
    },
    {
      "cell_type": "markdown",
      "metadata": {
        "id": "p-NGa2MbU6o3"
      },
      "source": [
        "### **keras.layers.Flatten**는 2차원 배열을 1차원 배열로 변환. 즉, 펼친다."
      ]
    },
    {
      "cell_type": "code",
      "metadata": {
        "id": "FuTtmTG-RxY1"
      },
      "source": [
        "model = keras.Sequential([\n",
        "                        keras.layers.Flatten(input_shape = (28, 28)), # 28 x 28로 된 텐서를 1차원 텐서로 펼친다. -> 28 x 28 = 784개의 텐서로 펼쳐진다.\n",
        "                        keras.layers.Dense(128, activation = 'relu'),\n",
        "                        keras.layers.Dense(10, activation = \"softmax\") # 위에 class_names가 10개기때문에 10으로 설정\n",
        "])"
      ],
      "execution_count": 18,
      "outputs": []
    },
    {
      "cell_type": "markdown",
      "metadata": {
        "id": "fD89ZvqAVJuC"
      },
      "source": [
        "## 모델 컴파일\n",
        "### 모델을 훈련하기 전에 필요한 설정이 모델 컴파일 단계에서 추가된다.\n",
        "### - **손실 함수(Loss function)**: 훈련하는 동안 모델의 오차를 측정하고,   모델의 학습이 올바른 방향으로 향하도록 이 함수를 최소화 해야한다.\n",
        "### - **옵티마이저(Optimizer)**: 데이터와 손실 함수를 바탕으로 모델의 업데이트 방법을 결정한다.\n",
        "### - **지표(Metrics)**: 훈련 단계와 테스트 단계를 모니터링하기 위해 사용되며, 다음 예에서는 올바르게 분류된 이미지의 비율인 정확도를 사용한다."
      ]
    },
    {
      "cell_type": "code",
      "metadata": {
        "id": "7yxralKOUu4i"
      },
      "source": [
        "model.compile(optimizer = 'adam', # \"옵티마이저로 adam을 사용\"\n",
        "              loss = \"sparse_categorical_crossentropy\",\n",
        "              metrics = [\"accuracy\"])\n",
        "              "
      ],
      "execution_count": 22,
      "outputs": []
    },
    {
      "cell_type": "markdown",
      "metadata": {
        "id": "iX640B2oWQUf"
      },
      "source": [
        "## 모델 훈련\n",
        "### 신경망 모델을 훈련하는 단계는 아래와 같다.\n",
        "### **1.** 훈련데이터를 모델에 주입한다. \n",
        "###    - 이 예에서는 **train_images**와 **train_labels** 배열 이다.\n",
        "### **2.** 모델의 이미지와 레이블을 매핑하는 방법을 배운다.\n",
        "### **3.** 테스트 세트에 대한 모델의 예측을 만든다.\n",
        "###    - 이 예에서는 tset_images 배열이다. 이 예측이 test_labels 배열의 레이블과 맞는지 확인한다. "
      ]
    },
    {
      "cell_type": "markdown",
      "metadata": {
        "id": "-h77UGwcW6Fp"
      },
      "source": [
        "### **훈련을 시작**하기 위해 **model.fit** 메소드를 호출하면 모델이 훈련 데이터를 학습한다."
      ]
    },
    {
      "cell_type": "code",
      "metadata": {
        "colab": {
          "base_uri": "https://localhost:8080/"
        },
        "id": "J-8qxRXTWL5k",
        "outputId": "f4926a9d-7194-4ce2-c188-4314632f3546"
      },
      "source": [
        "model.fit(train_images, train_labels, epochs = 10)"
      ],
      "execution_count": 24,
      "outputs": [
        {
          "output_type": "stream",
          "text": [
            "Epoch 1/10\n",
            "1875/1875 [==============================] - 3s 1ms/step - loss: 0.2335 - accuracy: 0.9125\n",
            "Epoch 2/10\n",
            "1875/1875 [==============================] - 3s 1ms/step - loss: 0.2249 - accuracy: 0.9150\n",
            "Epoch 3/10\n",
            "1875/1875 [==============================] - 3s 1ms/step - loss: 0.2192 - accuracy: 0.9176\n",
            "Epoch 4/10\n",
            "1875/1875 [==============================] - 3s 2ms/step - loss: 0.2115 - accuracy: 0.9204\n",
            "Epoch 5/10\n",
            "1875/1875 [==============================] - 3s 2ms/step - loss: 0.2041 - accuracy: 0.9229\n",
            "Epoch 6/10\n",
            "1875/1875 [==============================] - 3s 2ms/step - loss: 0.2001 - accuracy: 0.9247\n",
            "Epoch 7/10\n",
            "1875/1875 [==============================] - 3s 1ms/step - loss: 0.1945 - accuracy: 0.9262\n",
            "Epoch 8/10\n",
            "1875/1875 [==============================] - 3s 2ms/step - loss: 0.1887 - accuracy: 0.9285\n",
            "Epoch 9/10\n",
            "1875/1875 [==============================] - 3s 2ms/step - loss: 0.1860 - accuracy: 0.9304\n",
            "Epoch 10/10\n",
            "1875/1875 [==============================] - 3s 2ms/step - loss: 0.1798 - accuracy: 0.9331\n"
          ],
          "name": "stdout"
        },
        {
          "output_type": "execute_result",
          "data": {
            "text/plain": [
              "<tensorflow.python.keras.callbacks.History at 0x7f2b3c78b8d0>"
            ]
          },
          "metadata": {
            "tags": []
          },
          "execution_count": 24
        }
      ]
    },
    {
      "cell_type": "code",
      "metadata": {
        "colab": {
          "base_uri": "https://localhost:8080/"
        },
        "id": "49xxARW-XJ1o",
        "outputId": "32e3f8aa-268d-4f60-c027-8efe44f267d7"
      },
      "source": [
        "test_loss, test_acc = model.evaluate(test_images, test_labels, verbose = 2)\n",
        "print(\"\\n테스트 정확도: \", test_acc)\n",
        "# 결과값과 위의 accuracy가 차이난다. => 오버피팅 발생. (accuracy : 0.9331 vs test_acc : 0.8809)"
      ],
      "execution_count": 25,
      "outputs": [
        {
          "output_type": "stream",
          "text": [
            "313/313 - 0s - loss: 0.3685 - accuracy: 0.8810\n",
            "\n",
            "테스트 정확도:  0.8809999823570251\n"
          ],
          "name": "stdout"
        }
      ]
    },
    {
      "cell_type": "code",
      "metadata": {
        "id": "2k7BPudG6c5c"
      },
      "source": [
        ""
      ],
      "execution_count": null,
      "outputs": []
    }
  ]
}
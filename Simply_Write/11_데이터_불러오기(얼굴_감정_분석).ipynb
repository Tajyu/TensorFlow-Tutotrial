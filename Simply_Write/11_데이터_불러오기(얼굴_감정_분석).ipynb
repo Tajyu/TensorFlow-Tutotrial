{
  "nbformat": 4,
  "nbformat_minor": 0,
  "metadata": {
    "colab": {
      "name": "11.데이터 불러오기(얼굴 감정 분석).ipynb",
      "provenance": [],
      "collapsed_sections": [],
      "mount_file_id": "169THQATl6Hwmby9-0HHe7TZq9zg3Pmqu",
      "authorship_tag": "ABX9TyPURbMSXRp+nudMUuHfpnRJ",
      "include_colab_link": true
    },
    "kernelspec": {
      "name": "python3",
      "display_name": "Python 3"
    },
    "language_info": {
      "name": "python"
    },
    "accelerator": "GPU"
  },
  "cells": [
    {
      "cell_type": "markdown",
      "metadata": {
        "id": "view-in-github",
        "colab_type": "text"
      },
      "source": [
        "<a href=\"https://colab.research.google.com/github/Tajyu/TensorFlow-Tutotrial/blob/main/Simply_Write/11_%EB%8D%B0%EC%9D%B4%ED%84%B0_%EB%B6%88%EB%9F%AC%EC%98%A4%EA%B8%B0(%EC%96%BC%EA%B5%B4_%EA%B0%90%EC%A0%95_%EB%B6%84%EC%84%9D).ipynb\" target=\"_parent\"><img src=\"https://colab.research.google.com/assets/colab-badge.svg\" alt=\"Open In Colab\"/></a>"
      ]
    },
    {
      "cell_type": "code",
      "metadata": {
        "id": "YTZw2HumKXvc"
      },
      "source": [
        "import pandas as pd\n",
        "\n",
        "# 경로\n",
        "path = \"/content/drive/MyDrive/Colab Notebooks/TF_2.0/input/\"\n",
        "\n",
        "# 데이터 불러오기\n",
        "train = pd.read_csv(path + \"train.csv\")\n",
        "test = pd.read_csv(path + \"test.csv\")\n",
        "data = pd.read_csv(path + \"icml_face_data.csv\")"
      ],
      "execution_count": 3,
      "outputs": []
    },
    {
      "cell_type": "code",
      "metadata": {
        "id": "Hf0og82ARytA"
      },
      "source": [
        ""
      ],
      "execution_count": null,
      "outputs": []
    }
  ]
}
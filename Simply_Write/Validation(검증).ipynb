{
  "nbformat": 4,
  "nbformat_minor": 0,
  "metadata": {
    "colab": {
      "name": "Validation(검증).ipynb",
      "provenance": [],
      "collapsed_sections": [],
      "authorship_tag": "ABX9TyPsGlc5mC1pTJiB/3P53/KZ",
      "include_colab_link": true
    },
    "kernelspec": {
      "name": "python3",
      "display_name": "Python 3"
    },
    "language_info": {
      "name": "python"
    },
    "accelerator": "GPU"
  },
  "cells": [
    {
      "cell_type": "markdown",
      "metadata": {
        "id": "view-in-github",
        "colab_type": "text"
      },
      "source": [
        "<a href=\"https://colab.research.google.com/github/Tajyu/TensorFlow-Tutotrial/blob/main/Simply_Write/Validation(%EA%B2%80%EC%A6%9D).ipynb\" target=\"_parent\"><img src=\"https://colab.research.google.com/assets/colab-badge.svg\" alt=\"Open In Colab\"/></a>"
      ]
    },
    {
      "cell_type": "markdown",
      "metadata": {
        "id": "ORG-PHA0dfrl"
      },
      "source": [
        "# **\"Training Dataset\"**를\n",
        "# **\"Train Data(학습/훈련용 데이터)\"**와 **\"Validation Data(검증 데이터)\"**로 나누어서 학습하고 검증한다.\n",
        "## 보통 7:3 or 8:2로 나눈다."
      ]
    },
    {
      "cell_type": "markdown",
      "metadata": {
        "id": "x41iAHYReHQF"
      },
      "source": [
        "## 학습 및 검증을 할떄 Train Data와 Validation Data가 몰려있어야한다."
      ]
    },
    {
      "cell_type": "code",
      "metadata": {
        "id": "lXIAryoUdU7i"
      },
      "source": [
        "import tensorflow as tf\n",
        "from tensorflow.keras.models import Sequential\n",
        "from tensorflow.keras.layers import Dense, Flatten\n",
        "import matplotlib.pyplot as plt"
      ],
      "execution_count": 10,
      "outputs": []
    },
    {
      "cell_type": "code",
      "metadata": {
        "id": "6N3_V0WgeW-Y"
      },
      "source": [
        "# Mnist 데이터 세트\n",
        "mnist = tf.keras.datasets.mnist\n",
        "(X, y), (x_test, y_tset) = mnist.load_data()"
      ],
      "execution_count": 11,
      "outputs": []
    },
    {
      "cell_type": "code",
      "metadata": {
        "id": "ULtD_pWWgDaO"
      },
      "source": [
        "# 모델 만들기 (다중분류)\n",
        "model = Sequential([\n",
        "                    Flatten(input_shape = (28, 28)),\n",
        "                    Dense(64, activation = \"relu\"),\n",
        "                    Dense(10, activation = \"softmax\")\n",
        "])"
      ],
      "execution_count": 12,
      "outputs": []
    },
    {
      "cell_type": "code",
      "metadata": {
        "id": "ilpwbhWvgDVn"
      },
      "source": [
        "# 모델 컴파일\n",
        "model.compile(optimizer = \"adam\",\n",
        "              loss = \"sparse_categorical_crossentropy\",\n",
        "              metrics = [\"accuracy\"])"
      ],
      "execution_count": 13,
      "outputs": []
    },
    {
      "cell_type": "markdown",
      "metadata": {
        "id": "kDk_VAgPgM35"
      },
      "source": [
        "## 검증데이터 나누는 방법 1"
      ]
    },
    {
      "cell_type": "code",
      "metadata": {
        "colab": {
          "base_uri": "https://localhost:8080/"
        },
        "id": "WW5SLWF_gMfR",
        "outputId": "0e9ecc65-38f2-4c30-e3e8-3cf21cc769e8"
      },
      "source": [
        "history = model.fit(X, y, validation_split = 0.2, epochs = 5, batch_size = 64, verbose = 1)"
      ],
      "execution_count": 14,
      "outputs": [
        {
          "output_type": "stream",
          "text": [
            "Epoch 1/5\n",
            "750/750 [==============================] - 2s 2ms/step - loss: 4.3706 - accuracy: 0.7702 - val_loss: 0.7150 - val_accuracy: 0.8400\n",
            "Epoch 2/5\n",
            "750/750 [==============================] - 2s 2ms/step - loss: 0.6050 - accuracy: 0.8575 - val_loss: 0.4906 - val_accuracy: 0.8868\n",
            "Epoch 3/5\n",
            "750/750 [==============================] - 2s 2ms/step - loss: 0.4145 - accuracy: 0.8961 - val_loss: 0.3713 - val_accuracy: 0.9084\n",
            "Epoch 4/5\n",
            "750/750 [==============================] - 2s 2ms/step - loss: 0.3185 - accuracy: 0.9151 - val_loss: 0.3594 - val_accuracy: 0.9071\n",
            "Epoch 5/5\n",
            "750/750 [==============================] - 2s 2ms/step - loss: 0.2867 - accuracy: 0.9220 - val_loss: 0.3324 - val_accuracy: 0.9232\n"
          ],
          "name": "stdout"
        }
      ]
    },
    {
      "cell_type": "code",
      "metadata": {
        "colab": {
          "base_uri": "https://localhost:8080/",
          "height": 297
        },
        "id": "SMpUY1dBgfN5",
        "outputId": "5caffd58-5a5d-4841-b688-608b60c6bc1b"
      },
      "source": [
        "plt.plot(history.history[\"val_accuracy\"])\n",
        "plt.plot(history.history[\"val_loss\"])\n",
        "plt.xlabel(\"epochs\")\n",
        "plt.ylabel(\"accuarcy\")"
      ],
      "execution_count": 28,
      "outputs": [
        {
          "output_type": "execute_result",
          "data": {
            "text/plain": [
              "Text(0, 0.5, 'accuarcy')"
            ]
          },
          "metadata": {
            "tags": []
          },
          "execution_count": 28
        },
        {
          "output_type": "display_data",
          "data": {
            "image/png": "[encoded data removed]",
            "text/plain": [
              "<Figure size 432x288 with 1 Axes>"
            ]
          },
          "metadata": {
            "tags": [],
            "needs_background": "light"
          }
        }
      ]
    },
    {
      "cell_type": "markdown",
      "metadata": {
        "id": "1QaSnVj7haIl"
      },
      "source": [
        "## 검증데이터 나누는 방법 2"
      ]
    },
    {
      "cell_type": "code",
      "metadata": {
        "id": "NIeuFJazev2O"
      },
      "source": [
        "# Mnist 데이터 세트\n",
        "mnist = tf.keras.datasets.mnist\n",
        "(X, y), (x_test, y_tset) = mnist.load_data()"
      ],
      "execution_count": 29,
      "outputs": []
    },
    {
      "cell_type": "code",
      "metadata": {
        "colab": {
          "base_uri": "https://localhost:8080/"
        },
        "id": "oqM4NPsphkRU",
        "outputId": "957ee1bc-4871-4f32-d0c5-c5595e0a6992"
      },
      "source": [
        "# train_test_split 활용\n",
        "from sklearn.model_selection import train_test_split\n",
        "x_train, x_val, y_train, y_val = train_test_split(X, y, test_size = 0.2)\n",
        "\n",
        "# 시퀀셜 모델 만들기\n",
        "model = Sequential([\n",
        "                    Flatten(input_shape = (28, 28)),\n",
        "                    Dense(64, activation = \"relu\"),\n",
        "                    Dense(10, activation = \"softmax\")\n",
        "])\n",
        "\n",
        "# 모델 컴파일\n",
        "model.compile(optimizer = \"adam\",\n",
        "              loss = \"sparse_categorical_crossentropy\",\n",
        "              metrics = [\"accuracy\"])\n",
        "\n",
        "# 훈련(학습) validation_data\n",
        "history = model.fit(x_train, y_train, validation_data = (x_val, y_val), epochs = 5, batch_size = 64)"
      ],
      "execution_count": 30,
      "outputs": [
        {
          "output_type": "stream",
          "text": [
            "Epoch 1/5\n",
            "750/750 [==============================] - 2s 2ms/step - loss: 3.7466 - accuracy: 0.7725 - val_loss: 0.7498 - val_accuracy: 0.8179\n",
            "Epoch 2/5\n",
            "750/750 [==============================] - 2s 2ms/step - loss: 0.5917 - accuracy: 0.8565 - val_loss: 0.5335 - val_accuracy: 0.8873\n",
            "Epoch 3/5\n",
            "750/750 [==============================] - 2s 2ms/step - loss: 0.4006 - accuracy: 0.8973 - val_loss: 0.4608 - val_accuracy: 0.8997\n",
            "Epoch 4/5\n",
            "750/750 [==============================] - 2s 2ms/step - loss: 0.3173 - accuracy: 0.9161 - val_loss: 0.3733 - val_accuracy: 0.9178\n",
            "Epoch 5/5\n",
            "750/750 [==============================] - 2s 2ms/step - loss: 0.2731 - accuracy: 0.9278 - val_loss: 0.3420 - val_accuracy: 0.9212\n"
          ],
          "name": "stdout"
        }
      ]
    },
    {
      "cell_type": "code",
      "metadata": {
        "colab": {
          "base_uri": "https://localhost:8080/",
          "height": 297
        },
        "id": "t1_2cdRtiOaN",
        "outputId": "50c29614-f03e-4f14-f6bf-5c3f5e3965d4"
      },
      "source": [
        "plt.plot(history.history[\"val_accuracy\"])\n",
        "plt.plot(history.history[\"val_loss\"])\n",
        "plt.xlabel(\"epochs\")\n",
        "plt.ylabel(\"accuarcy\")"
      ],
      "execution_count": 31,
      "outputs": [
        {
          "output_type": "execute_result",
          "data": {
            "text/plain": [
              "Text(0, 0.5, 'accuarcy')"
            ]
          },
          "metadata": {
            "tags": []
          },
          "execution_count": 31
        },
        {
          "output_type": "display_data",
          "data": {
            "image/png": "[encoded data removed]",
            "text/plain": [
              "<Figure size 432x288 with 1 Axes>"
            ]
          },
          "metadata": {
            "tags": [],
            "needs_background": "light"
          }
        }
      ]
    },
    {
      "cell_type": "code",
      "metadata": {
        "id": "hC-V18pwiSIT"
      },
      "source": [
        ""
      ],
      "execution_count": null,
      "outputs": []
    }
  ]
}
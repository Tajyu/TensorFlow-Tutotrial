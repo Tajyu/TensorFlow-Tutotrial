{
  "nbformat": 4,
  "nbformat_minor": 0,
  "metadata": {
    "colab": {
      "name": "6.평가.ipynb",
      "provenance": [],
      "collapsed_sections": [],
      "authorship_tag": "ABX9TyNQkDCi9T1sZbjajDt21Vb9",
      "include_colab_link": true
    },
    "kernelspec": {
      "name": "python3",
      "display_name": "Python 3"
    },
    "language_info": {
      "name": "python"
    },
    "accelerator": "GPU"
  },
  "cells": [
    {
      "cell_type": "markdown",
      "metadata": {
        "id": "view-in-github",
        "colab_type": "text"
      },
      "source": [
        "<a href=\"https://colab.research.google.com/github/Tajyu/TensorFlow-Tutotrial/blob/main/Simply_Write/6_%ED%8F%89%EA%B0%80.ipynb\" target=\"_parent\"><img src=\"https://colab.research.google.com/assets/colab-badge.svg\" alt=\"Open In Colab\"/></a>"
      ]
    },
    {
      "cell_type": "code",
      "metadata": {
        "id": "N4obhSuAiw06"
      },
      "source": [
        "# 라이브러리 불러오기\n",
        "import tensorflow as tf\n",
        "from tensorflow.keras.models import Sequential\n",
        "from tensorflow.keras.layers import Flatten, Dense\n",
        "import matplotlib.pyplot as plt"
      ],
      "execution_count": null,
      "outputs": []
    },
    {
      "cell_type": "code",
      "metadata": {
        "colab": {
          "base_uri": "https://localhost:8080/"
        },
        "id": "82Lnzm2IjD3W",
        "outputId": "c8115cd2-2696-45d6-a744-3286e486f103"
      },
      "source": [
        "# Mnist 데이터세트 불러오기\n",
        "mnist = tf.keras.datasets.mnist\n",
        "(x_train, y_train), (x_test, y_test) = mnist.load_data()"
      ],
      "execution_count": null,
      "outputs": [
        {
          "output_type": "stream",
          "text": [
            "Downloading data from https://storage.googleapis.com/tensorflow/tf-keras-datasets/mnist.npz\n",
            "11493376/11490434 [==============================] - 0s 0us/step\n"
          ],
          "name": "stdout"
        }
      ]
    },
    {
      "cell_type": "code",
      "metadata": {
        "id": "QKrAR_BwjRI4"
      },
      "source": [
        "# 모델 생성\n",
        "model = Sequential([\n",
        "                    Flatten(input_shape = (28, 28)),\n",
        "                    Dense(64, activation = \"relu\"),\n",
        "                    Dense(10, activation = \"softmax\")\n",
        "])"
      ],
      "execution_count": null,
      "outputs": []
    },
    {
      "cell_type": "code",
      "metadata": {
        "id": "ymfG3gM_jje4"
      },
      "source": [
        "# 모델 컴파일\n",
        "model.compile(optimizer = \"adam\",\n",
        "              loss = \"sparse_categorical_crossentropy\",\n",
        "              metrics = [\"accuracy\"])"
      ],
      "execution_count": null,
      "outputs": []
    },
    {
      "cell_type": "code",
      "metadata": {
        "colab": {
          "base_uri": "https://localhost:8080/"
        },
        "id": "BM6eAXM9j0xx",
        "outputId": "99969328-1507-4f45-d17b-10791ffe8a4c"
      },
      "source": [
        "# 훈련(학습)\n",
        "history = model.fit(x_train, y_train, validation_split = 0.2, epochs = 5, batch_size = 64)"
      ],
      "execution_count": null,
      "outputs": [
        {
          "output_type": "stream",
          "text": [
            "Epoch 1/5\n",
            "750/750 [==============================] - 5s 2ms/step - loss: 4.5305 - accuracy: 0.7657 - val_loss: 0.8487 - val_accuracy: 0.8077\n",
            "Epoch 2/5\n",
            "750/750 [==============================] - 2s 2ms/step - loss: 0.6843 - accuracy: 0.8371 - val_loss: 0.5703 - val_accuracy: 0.8597\n",
            "Epoch 3/5\n",
            "750/750 [==============================] - 2s 2ms/step - loss: 0.4712 - accuracy: 0.8822 - val_loss: 0.4567 - val_accuracy: 0.8992\n",
            "Epoch 4/5\n",
            "750/750 [==============================] - 2s 2ms/step - loss: 0.3663 - accuracy: 0.9065 - val_loss: 0.4334 - val_accuracy: 0.9016\n",
            "Epoch 5/5\n",
            "750/750 [==============================] - 2s 2ms/step - loss: 0.3124 - accuracy: 0.9199 - val_loss: 0.3230 - val_accuracy: 0.9212\n"
          ],
          "name": "stdout"
        }
      ]
    },
    {
      "cell_type": "code",
      "metadata": {
        "colab": {
          "base_uri": "https://localhost:8080/"
        },
        "id": "jQZLnPoEj6G6",
        "outputId": "bcee0a75-be87-4496-a868-6ad01b34f597"
      },
      "source": [
        "# 평가(정확도)\n",
        "loss, accuracy = model.evaluate(x_test, y_test)\n",
        "print(\"Test Data Accuracy: \", accuracy)"
      ],
      "execution_count": null,
      "outputs": [
        {
          "output_type": "stream",
          "text": [
            "313/313 [==============================] - 0s 1ms/step - loss: 0.3546 - accuracy: 0.9191\n",
            "Test Data Accuracy:  0.9190999865531921\n"
          ],
          "name": "stdout"
        }
      ]
    },
    {
      "cell_type": "code",
      "metadata": {
        "colab": {
          "base_uri": "https://localhost:8080/",
          "height": 297
        },
        "id": "3yHhq1NMkcDt",
        "outputId": "1c075d4f-ac76-4e86-d723-835d2c0c7d1c"
      },
      "source": [
        "plt.plot(history.history[\"val_accuracy\"])\n",
        "plt.plot(history.history[\"val_loss\"])\n",
        "plt.legend(history.history, loc = \"lower left\")\n",
        "plt.xlabel(\"epochs\")\n",
        "plt.ylabel(\"accuarcy\")"
      ],
      "execution_count": null,
      "outputs": [
        {
          "output_type": "execute_result",
          "data": {
            "text/plain": [
              "Text(0, 0.5, 'accuarcy')"
            ]
          },
          "metadata": {
            "tags": []
          },
          "execution_count": 8
        },
        {
          "output_type": "display_data",
          "data": {
            "image/png": "[encoded data removed]",
            "text/plain": [
              "<Figure size 432x288 with 1 Axes>"
            ]
          },
          "metadata": {
            "tags": [],
            "needs_background": "light"
          }
        }
      ]
    },
    {
      "cell_type": "code",
      "metadata": {
        "colab": {
          "base_uri": "https://localhost:8080/"
        },
        "id": "MzjpDq0gkjz3",
        "outputId": "4e1dc860-5031-4915-f590-271fc4b373f1"
      },
      "source": [
        "# 에측\n",
        "predictions = model.predict(x_test) # x_test = 10,000 개의 data\n",
        "\n",
        "# 첫 번째 데이터 예측 결과값\n",
        "predictions[0]"
      ],
      "execution_count": null,
      "outputs": [
        {
          "output_type": "execute_result",
          "data": {
            "text/plain": [
              "array([2.3210843e-28, 3.3778795e-09, 8.3441137e-13, 6.7951157e-12,\n",
              "       1.2481287e-15, 2.6947668e-27, 1.8429348e-10, 1.0000000e+00,\n",
              "       1.5700140e-29, 4.3740549e-12], dtype=float32)"
            ]
          },
          "metadata": {
            "tags": []
          },
          "execution_count": 9
        }
      ]
    },
    {
      "cell_type": "markdown",
      "metadata": {
        "id": "SyyE6wgimiI7"
      },
      "source": [
        "## 표현 방식 변경(소수점 두자리)\n",
        "## => 위의 결과가 부동 소수점(1e-2 이런 형태)라서 고정 소수점 형태로 변겅 "
      ]
    },
    {
      "cell_type": "code",
      "metadata": {
        "colab": {
          "base_uri": "https://localhost:8080/"
        },
        "id": "QrZyU1FzmD7H",
        "outputId": "1bd58e4a-bd49-48b8-e14a-8567a000ed44"
      },
      "source": [
        "import numpy as np\n",
        "\n",
        "np.set_printoptions(formatter = {\"float_kind\": lambda x: \"{0:02f}\".format(x)})\n",
        "\n",
        "# 첫 번쨰 데이터 예측 결과값\n",
        "predictions[0]"
      ],
      "execution_count": null,
      "outputs": [
        {
          "output_type": "execute_result",
          "data": {
            "text/plain": [
              "array([0.000000, 0.000000, 0.000000, 0.000000, 0.000000, 0.000000,\n",
              "       0.000000, 1.000000, 0.000000, 0.000000], dtype=float32)"
            ]
          },
          "metadata": {
            "tags": []
          },
          "execution_count": 10
        }
      ]
    },
    {
      "cell_type": "code",
      "metadata": {
        "colab": {
          "base_uri": "https://localhost:8080/",
          "height": 175
        },
        "id": "wzTOSPk4nGFu",
        "outputId": "a0732e73-a1b2-4211-a4bb-17607d4e1485"
      },
      "source": [
        "plt.figure(figsize = (12, 2))\n",
        "plt.plot(predictions[0], \"o\")"
      ],
      "execution_count": null,
      "outputs": [
        {
          "output_type": "execute_result",
          "data": {
            "text/plain": [
              "[<matplotlib.lines.Line2D at 0x7fe528ea79d0>]"
            ]
          },
          "metadata": {
            "tags": []
          },
          "execution_count": 12
        },
        {
          "output_type": "display_data",
          "data": {
            "image/png": "[encoded data removed]",
            "text/plain": [
              "<Figure size 864x144 with 1 Axes>"
            ]
          },
          "metadata": {
            "tags": [],
            "needs_background": "light"
          }
        }
      ]
    },
    {
      "cell_type": "code",
      "metadata": {
        "colab": {
          "base_uri": "https://localhost:8080/",
          "height": 283
        },
        "id": "KX8d4qTWna_Y",
        "outputId": "0dae5c1e-5431-4b55-afea-cda7a2809f11"
      },
      "source": [
        "plt.imshow(x_test[0]) # 7일 확률이 제일 크다."
      ],
      "execution_count": null,
      "outputs": [
        {
          "output_type": "execute_result",
          "data": {
            "text/plain": [
              "<matplotlib.image.AxesImage at 0x7fe528dfb210>"
            ]
          },
          "metadata": {
            "tags": []
          },
          "execution_count": 13
        },
        {
          "output_type": "display_data",
          "data": {
            "image/png": "[encoded data removed]",
            "text/plain": [
              "<Figure size 432x288 with 1 Axes>"
            ]
          },
          "metadata": {
            "tags": [],
            "needs_background": "light"
          }
        }
      ]
    },
    {
      "cell_type": "code",
      "metadata": {
        "id": "I6uTfRewniix"
      },
      "source": [
        ""
      ],
      "execution_count": null,
      "outputs": []
    }
  ]
}
{
  "nbformat": 4,
  "nbformat_minor": 0,
  "metadata": {
    "colab": {
      "name": "10.모델 저장 및 불러오기.ipynb",
      "provenance": [],
      "collapsed_sections": [],
      "authorship_tag": "ABX9TyOOf2S7JCx14DVJNs0BYutk",
      "include_colab_link": true
    },
    "kernelspec": {
      "name": "python3",
      "display_name": "Python 3"
    },
    "language_info": {
      "name": "python"
    },
    "accelerator": "GPU"
  },
  "cells": [
    {
      "cell_type": "markdown",
      "metadata": {
        "id": "view-in-github",
        "colab_type": "text"
      },
      "source": [
        "<a href=\"https://colab.research.google.com/github/Tajyu/TensorFlow-Tutotrial/blob/main/Simply_Write/10_%EB%AA%A8%EB%8D%B8_%EC%A0%80%EC%9E%A5_%EB%B0%8F_%EB%B6%88%EB%9F%AC%EC%98%A4%EA%B8%B0.ipynb\" target=\"_parent\"><img src=\"https://colab.research.google.com/assets/colab-badge.svg\" alt=\"Open In Colab\"/></a>"
      ]
    },
    {
      "cell_type": "markdown",
      "metadata": {
        "id": "w7wdN-UHFriZ"
      },
      "source": [
        "# 모델저장\n",
        "## 1. 가중치 값만 저장\n",
        "## 2. 모델 전체 저장"
      ]
    },
    {
      "cell_type": "code",
      "metadata": {
        "id": "XqgPwxGNEBDV"
      },
      "source": [
        "# 라이브러리 불러오기\n",
        "import tensorflow as tf\n",
        "from tensorflow.keras.models import Sequential\n",
        "from tensorflow.keras.layers import Flatten, Dense, BatchNormalization, Dropout\n",
        "from tensorflow.keras.callbacks import ModelCheckpoint\n",
        "import matplotlib.pyplot as plt\n",
        "import numpy as np"
      ],
      "execution_count": 6,
      "outputs": []
    },
    {
      "cell_type": "code",
      "metadata": {
        "id": "m200NHIzF44m"
      },
      "source": [
        "cp_path = \"model_save/cp.ckpt\"\n",
        "checkpoint = ModelCheckpoint(filepath = cp_path,\n",
        "                             save_best_only = True,\n",
        "                             save_wight_only = True,\n",
        "                             verbose = 1)"
      ],
      "execution_count": 7,
      "outputs": []
    },
    {
      "cell_type": "code",
      "metadata": {
        "id": "ItJQa9yRGOKm"
      },
      "source": [
        "# Mnist 데이터세트 불러오기\n",
        "mnist = tf.keras.datasets.mnist\n",
        "(x_train, y_train), (x_test, y_test) = mnist.load_data()"
      ],
      "execution_count": 8,
      "outputs": []
    },
    {
      "cell_type": "code",
      "metadata": {
        "id": "5ScXC0NQGlo3"
      },
      "source": [
        "# 열악한 학습데이터 환경 설정 (5000개)\n",
        "x_train = x_train[:5000]\n",
        "y_train = y_train[:5000]"
      ],
      "execution_count": 9,
      "outputs": []
    },
    {
      "cell_type": "code",
      "metadata": {
        "id": "J0DZgSrmGnyi"
      },
      "source": [
        "# 모델 (함수)\n",
        "def load_model():\n",
        "    model = Sequential([\n",
        "                        Flatten(input_shape=(28,28)),\n",
        "                        Dense(64, activation='relu'),\n",
        "                        Dense(10, activation='softmax')\n",
        "    ])\n",
        "\n",
        "    model.compile(optimizer='adam',\n",
        "                loss='sparse_categorical_crossentropy',\n",
        "                metrics=['accuracy'])\n",
        "    return model"
      ],
      "execution_count": 10,
      "outputs": []
    },
    {
      "cell_type": "code",
      "metadata": {
        "colab": {
          "base_uri": "https://localhost:8080/"
        },
        "id": "ilMqr6F_GpGS",
        "outputId": "82168bf7-8420-4a61-b574-9afe249fe744"
      },
      "source": [
        "model = load_model()\n",
        "model.fit(x_train, y_train, validation_split=0.2, epochs=10, batch_size=64, callbacks=[checkpoint], verbose=2)"
      ],
      "execution_count": 11,
      "outputs": [
        {
          "output_type": "stream",
          "text": [
            "Epoch 1/10\n",
            "63/63 - 3s - loss: 30.4792 - accuracy: 0.5940 - val_loss: 7.0888 - val_accuracy: 0.7460\n",
            "\n",
            "Epoch 00001: val_loss improved from inf to 7.08880, saving model to model_save/cp.ckpt\n",
            "INFO:tensorflow:Assets written to: model_save/cp.ckpt/assets\n",
            "Epoch 2/10\n",
            "63/63 - 0s - loss: 4.7599 - accuracy: 0.8275 - val_loss: 5.0422 - val_accuracy: 0.7910\n",
            "\n",
            "Epoch 00002: val_loss improved from 7.08880 to 5.04218, saving model to model_save/cp.ckpt\n",
            "INFO:tensorflow:Assets written to: model_save/cp.ckpt/assets\n",
            "Epoch 3/10\n",
            "63/63 - 0s - loss: 2.7209 - accuracy: 0.8627 - val_loss: 3.7347 - val_accuracy: 0.8160\n",
            "\n",
            "Epoch 00003: val_loss improved from 5.04218 to 3.73473, saving model to model_save/cp.ckpt\n",
            "INFO:tensorflow:Assets written to: model_save/cp.ckpt/assets\n",
            "Epoch 4/10\n",
            "63/63 - 0s - loss: 1.6356 - accuracy: 0.8917 - val_loss: 3.4643 - val_accuracy: 0.8340\n",
            "\n",
            "Epoch 00004: val_loss improved from 3.73473 to 3.46428, saving model to model_save/cp.ckpt\n",
            "INFO:tensorflow:Assets written to: model_save/cp.ckpt/assets\n",
            "Epoch 5/10\n",
            "63/63 - 0s - loss: 1.0620 - accuracy: 0.9193 - val_loss: 3.7522 - val_accuracy: 0.8210\n",
            "\n",
            "Epoch 00005: val_loss did not improve from 3.46428\n",
            "Epoch 6/10\n",
            "63/63 - 0s - loss: 0.8179 - accuracy: 0.9283 - val_loss: 3.7500 - val_accuracy: 0.8290\n",
            "\n",
            "Epoch 00006: val_loss did not improve from 3.46428\n",
            "Epoch 7/10\n",
            "63/63 - 0s - loss: 0.5862 - accuracy: 0.9408 - val_loss: 3.2867 - val_accuracy: 0.8340\n",
            "\n",
            "Epoch 00007: val_loss improved from 3.46428 to 3.28668, saving model to model_save/cp.ckpt\n",
            "INFO:tensorflow:Assets written to: model_save/cp.ckpt/assets\n",
            "Epoch 8/10\n",
            "63/63 - 0s - loss: 0.4223 - accuracy: 0.9498 - val_loss: 3.2522 - val_accuracy: 0.8400\n",
            "\n",
            "Epoch 00008: val_loss improved from 3.28668 to 3.25222, saving model to model_save/cp.ckpt\n",
            "INFO:tensorflow:Assets written to: model_save/cp.ckpt/assets\n",
            "Epoch 9/10\n",
            "63/63 - 0s - loss: 0.3045 - accuracy: 0.9643 - val_loss: 3.0893 - val_accuracy: 0.8550\n",
            "\n",
            "Epoch 00009: val_loss improved from 3.25222 to 3.08932, saving model to model_save/cp.ckpt\n",
            "INFO:tensorflow:Assets written to: model_save/cp.ckpt/assets\n",
            "Epoch 10/10\n",
            "63/63 - 0s - loss: 0.1924 - accuracy: 0.9740 - val_loss: 3.1214 - val_accuracy: 0.8500\n",
            "\n",
            "Epoch 00010: val_loss did not improve from 3.08932\n"
          ],
          "name": "stdout"
        },
        {
          "output_type": "execute_result",
          "data": {
            "text/plain": [
              "<tensorflow.python.keras.callbacks.History at 0x7f2455d8b110>"
            ]
          },
          "metadata": {
            "tags": []
          },
          "execution_count": 11
        }
      ]
    },
    {
      "cell_type": "code",
      "metadata": {
        "colab": {
          "base_uri": "https://localhost:8080/"
        },
        "id": "S0KYhnfeGr9e",
        "outputId": "870af83f-6f3e-43eb-a81a-2e8b96e4ff5f"
      },
      "source": [
        "# 새 모델\n",
        "model = load_model()\n",
        "model.evaluate(x_test, y_test)"
      ],
      "execution_count": 12,
      "outputs": [
        {
          "output_type": "stream",
          "text": [
            "313/313 [==============================] - 1s 1ms/step - loss: 140.5176 - accuracy: 0.1060\n"
          ],
          "name": "stdout"
        },
        {
          "output_type": "execute_result",
          "data": {
            "text/plain": [
              "[140.51759338378906, 0.10599999874830246]"
            ]
          },
          "metadata": {
            "tags": []
          },
          "execution_count": 12
        }
      ]
    },
    {
      "cell_type": "code",
      "metadata": {
        "colab": {
          "base_uri": "https://localhost:8080/"
        },
        "id": "NJ-Wqty2Gww6",
        "outputId": "3a1ef0f3-9671-4e8f-dd85-42a0e06f9a4b"
      },
      "source": [
        "# 저장된 모델 가중치 불러오기\n",
        "model.load_weights(cp_path)\n",
        "model.evaluate(x_test, y_test)"
      ],
      "execution_count": 13,
      "outputs": [
        {
          "output_type": "stream",
          "text": [
            "313/313 [==============================] - 0s 1ms/step - loss: 3.2641 - accuracy: 0.8441\n"
          ],
          "name": "stdout"
        },
        {
          "output_type": "execute_result",
          "data": {
            "text/plain": [
              "[3.2640597820281982, 0.8440999984741211]"
            ]
          },
          "metadata": {
            "tags": []
          },
          "execution_count": 13
        }
      ]
    },
    {
      "cell_type": "markdown",
      "metadata": {
        "id": "LiF3VcqUGzzU"
      },
      "source": [
        "## 모델 전체 저장 및 불러오기"
      ]
    },
    {
      "cell_type": "code",
      "metadata": {
        "colab": {
          "base_uri": "https://localhost:8080/"
        },
        "id": "CemOc2_hGyWl",
        "outputId": "52bcf166-4ad4-4125-a8d8-03a6f04f2e3d"
      },
      "source": [
        "# 방법 1\n",
        "model = load_model()\n",
        "checkpoint = ModelCheckpoint('model_save.h5') #save_weights_only=False\n",
        "model.fit(x_train, y_train, epochs=3, callbacks=[checkpoint])"
      ],
      "execution_count": 14,
      "outputs": [
        {
          "output_type": "stream",
          "text": [
            "Epoch 1/3\n",
            "157/157 [==============================] - 1s 2ms/step - loss: 15.8508 - accuracy: 0.7062\n",
            "Epoch 2/3\n",
            "157/157 [==============================] - 0s 2ms/step - loss: 2.5862 - accuracy: 0.8650\n",
            "Epoch 3/3\n",
            "157/157 [==============================] - 0s 2ms/step - loss: 1.5109 - accuracy: 0.8838\n"
          ],
          "name": "stdout"
        },
        {
          "output_type": "execute_result",
          "data": {
            "text/plain": [
              "<tensorflow.python.keras.callbacks.History at 0x7f24080c4dd0>"
            ]
          },
          "metadata": {
            "tags": []
          },
          "execution_count": 14
        }
      ]
    },
    {
      "cell_type": "code",
      "metadata": {
        "colab": {
          "base_uri": "https://localhost:8080/"
        },
        "id": "5-6ugk3LG4T8",
        "outputId": "df5183ff-28ce-43e0-efa9-9012a1c6f70e"
      },
      "source": [
        "# 방법 2\n",
        "model = load_model()\n",
        "model.fit(x_train, y_train, epochs=3)\n",
        "model.save('model_save2.h5')"
      ],
      "execution_count": 15,
      "outputs": [
        {
          "output_type": "stream",
          "text": [
            "Epoch 1/3\n",
            "157/157 [==============================] - 1s 2ms/step - loss: 12.4486 - accuracy: 0.6972\n",
            "Epoch 2/3\n",
            "157/157 [==============================] - 0s 2ms/step - loss: 2.2736 - accuracy: 0.8132\n",
            "Epoch 3/3\n",
            "157/157 [==============================] - 0s 2ms/step - loss: 1.0703 - accuracy: 0.8214\n"
          ],
          "name": "stdout"
        }
      ]
    },
    {
      "cell_type": "code",
      "metadata": {
        "colab": {
          "base_uri": "https://localhost:8080/"
        },
        "id": "vmkpGmcPG2wL",
        "outputId": "04c45f1a-cff2-4737-f7a7-aaeed20d9ca5"
      },
      "source": [
        "from tensorflow.keras.models import load_model\n",
        "\n",
        "model = load_model('model_save2.h5')\n",
        "model.evaluate(x_test, y_test)"
      ],
      "execution_count": 16,
      "outputs": [
        {
          "output_type": "stream",
          "text": [
            "313/313 [==============================] - 1s 2ms/step - loss: 1.8316 - accuracy: 0.7720\n"
          ],
          "name": "stdout"
        },
        {
          "output_type": "execute_result",
          "data": {
            "text/plain": [
              "[1.8315918445587158, 0.7720000147819519]"
            ]
          },
          "metadata": {
            "tags": []
          },
          "execution_count": 16
        }
      ]
    },
    {
      "cell_type": "code",
      "metadata": {
        "id": "sXRklCE-G7zs"
      },
      "source": [
        ""
      ],
      "execution_count": null,
      "outputs": []
    }
  ]
}
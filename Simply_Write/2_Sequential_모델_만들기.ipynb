{
  "nbformat": 4,
  "nbformat_minor": 0,
  "metadata": {
    "colab": {
      "name": "2.Sequential 모델 만들기.ipynb",
      "provenance": [],
      "collapsed_sections": [],
      "authorship_tag": "ABX9TyNOG22dLlLpc/hJuKBscjEV",
      "include_colab_link": true
    },
    "kernelspec": {
      "name": "python3",
      "display_name": "Python 3"
    },
    "language_info": {
      "name": "python"
    },
    "accelerator": "GPU"
  },
  "cells": [
    {
      "cell_type": "markdown",
      "metadata": {
        "id": "view-in-github",
        "colab_type": "text"
      },
      "source": [
        "<a href=\"https://colab.research.google.com/github/Tajyu/TensorFlow-Tutotrial/blob/main/Simply_Write/2_Sequential_%EB%AA%A8%EB%8D%B8_%EB%A7%8C%EB%93%A4%EA%B8%B0.ipynb\" target=\"_parent\"><img src=\"https://colab.research.google.com/assets/colab-badge.svg\" alt=\"Open In Colab\"/></a>"
      ]
    },
    {
      "cell_type": "markdown",
      "metadata": {
        "id": "ibnpW0JlHgB5"
      },
      "source": [
        "### Sequntial, Dense import"
      ]
    },
    {
      "cell_type": "code",
      "metadata": {
        "id": "nTwCJpR7G-ep"
      },
      "source": [
        "from tensorflow.keras.models import Sequential\n",
        "from tensorflow.keras.layers import Dense"
      ],
      "execution_count": null,
      "outputs": []
    },
    {
      "cell_type": "markdown",
      "metadata": {
        "id": "3df_EqmOHcXW"
      },
      "source": [
        "### 시퀀셜 모델 만드는 방법 1 (콤마주의)"
      ]
    },
    {
      "cell_type": "code",
      "metadata": {
        "id": "NfSpcFtqHTiL"
      },
      "source": [
        "model = Sequential([\n",
        "                    Dense(units = 128, activation = \"relu\"),\n",
        "                    Dense(units = 10, activation = \"softmax\")\n",
        "])"
      ],
      "execution_count": null,
      "outputs": []
    },
    {
      "cell_type": "code",
      "metadata": {
        "colab": {
          "base_uri": "https://localhost:8080/"
        },
        "id": "fKf7OM0YH49z",
        "outputId": "9061357e-5647-4baa-ee62-e75e4fc7883a"
      },
      "source": [
        "print(model)"
      ],
      "execution_count": null,
      "outputs": [
        {
          "output_type": "stream",
          "text": [
            "<tensorflow.python.keras.engine.sequential.Sequential object at 0x7f03c9b6f3d0>\n"
          ],
          "name": "stdout"
        }
      ]
    },
    {
      "cell_type": "markdown",
      "metadata": {
        "id": "0WFsvYY9H9sE"
      },
      "source": [
        "### 시퀀셜 모델 만드는 방법 2 (add 메소드 활용)"
      ]
    },
    {
      "cell_type": "code",
      "metadata": {
        "id": "gtIm8hqZH8pw"
      },
      "source": [
        "model = Sequential()\n",
        "model.add(Dense(units = 128, activation = \"relu\"))\n",
        "model.add(Dense(units = 10, activation = \"softmax\"))"
      ],
      "execution_count": null,
      "outputs": []
    },
    {
      "cell_type": "code",
      "metadata": {
        "colab": {
          "base_uri": "https://localhost:8080/"
        },
        "id": "lZ3N4enjIMLF",
        "outputId": "9b4cd2ed-7365-4cb9-a001-ea0f11a11218"
      },
      "source": [
        "print(model)"
      ],
      "execution_count": null,
      "outputs": [
        {
          "output_type": "stream",
          "text": [
            "<tensorflow.python.keras.engine.sequential.Sequential object at 0x7f03b03edc90>\n"
          ],
          "name": "stdout"
        }
      ]
    },
    {
      "cell_type": "markdown",
      "metadata": {
        "id": "aYXLd4g7LLbV"
      },
      "source": [
        "### 입력 (Input)\n"
      ]
    },
    {
      "cell_type": "code",
      "metadata": {
        "id": "5x5aO2O8IN7r"
      },
      "source": [
        "# 입력\n",
        "model = Sequential([\n",
        "                    Dense(units = 128, activation = \"relu\", input_shape = (784,)), # 784개의 텐서(1차원) \n",
        "                    Dense(units = 10, activation = 'softmax')\n",
        "])"
      ],
      "execution_count": null,
      "outputs": []
    },
    {
      "cell_type": "code",
      "metadata": {
        "colab": {
          "base_uri": "https://localhost:8080/"
        },
        "id": "e4hkKY_LLeVX",
        "outputId": "c37b3f12-358f-4b5c-aaff-6f46730fe26e"
      },
      "source": [
        "print(model)"
      ],
      "execution_count": null,
      "outputs": [
        {
          "output_type": "stream",
          "text": [
            "<tensorflow.python.keras.engine.sequential.Sequential object at 0x7f03b03ef510>\n"
          ],
          "name": "stdout"
        }
      ]
    },
    {
      "cell_type": "markdown",
      "metadata": {
        "id": "S65itVJsLm_u"
      },
      "source": [
        "## Flatten layer"
      ]
    },
    {
      "cell_type": "code",
      "metadata": {
        "id": "57CL--ZBLiyq"
      },
      "source": [
        "from tensorflow.keras.layers import  Flatten"
      ],
      "execution_count": null,
      "outputs": []
    },
    {
      "cell_type": "code",
      "metadata": {
        "id": "jzgLGCv-Lu7u"
      },
      "source": [
        "model = Sequential([\n",
        "                    Flatten(input_shape = (28, 28)), # 28 x 28 인 2차원 텐서를 1차원 텐서(784개의 텐서)로 바꿔준다. / 28 x 28 = 784\n",
        "                    Dense(units = 128, activation = \"relu\"),\n",
        "                    Dense(units = 10, activation = 'softmax')\n",
        "])"
      ],
      "execution_count": null,
      "outputs": []
    },
    {
      "cell_type": "code",
      "metadata": {
        "colab": {
          "base_uri": "https://localhost:8080/"
        },
        "id": "JWPBpxTqMSlo",
        "outputId": "43c49eb6-39d0-4d15-b0b2-72b952081f51"
      },
      "source": [
        "model.summary()"
      ],
      "execution_count": null,
      "outputs": [
        {
          "output_type": "stream",
          "text": [
            "Model: \"sequential_4\"\n",
            "_________________________________________________________________\n",
            "Layer (type)                 Output Shape              Param #   \n",
            "=================================================================\n",
            "flatten (Flatten)            (None, 784)               0         \n",
            "_________________________________________________________________\n",
            "dense_8 (Dense)              (None, 128)               100480    \n",
            "_________________________________________________________________\n",
            "dense_9 (Dense)              (None, 10)                1290      \n",
            "=================================================================\n",
            "Total params: 101,770\n",
            "Trainable params: 101,770\n",
            "Non-trainable params: 0\n",
            "_________________________________________________________________\n"
          ],
          "name": "stdout"
        }
      ]
    },
    {
      "cell_type": "markdown",
      "metadata": {
        "id": "VQwtkuXyNBp4"
      },
      "source": [
        "### layer에 이름 붙이기"
      ]
    },
    {
      "cell_type": "code",
      "metadata": {
        "id": "JX3-GP7CMXb3"
      },
      "source": [
        "model = Sequential([\n",
        "                    Flatten(input_shape = (28, 28), name = \"A\"), # layer에 이름 붙이기.\n",
        "                    Dense(units = 128, activation = \"relu\", name = \"B\"),\n",
        "                    Dense(units = 10, activation = 'softmax', name = \"C\")\n",
        "])"
      ],
      "execution_count": null,
      "outputs": []
    },
    {
      "cell_type": "code",
      "metadata": {
        "colab": {
          "base_uri": "https://localhost:8080/"
        },
        "id": "a-JLtMxzNKWh",
        "outputId": "0474e437-0c7b-4249-fcee-2bd8a47d0262"
      },
      "source": [
        "model.summary()"
      ],
      "execution_count": null,
      "outputs": [
        {
          "output_type": "stream",
          "text": [
            "Model: \"sequential_6\"\n",
            "_________________________________________________________________\n",
            "Layer (type)                 Output Shape              Param #   \n",
            "=================================================================\n",
            "A (Flatten)                  (None, 784)               0         \n",
            "_________________________________________________________________\n",
            "B (Dense)                    (None, 128)               100480    \n",
            "_________________________________________________________________\n",
            "C (Dense)                    (None, 10)                1290      \n",
            "=================================================================\n",
            "Total params: 101,770\n",
            "Trainable params: 101,770\n",
            "Non-trainable params: 0\n",
            "_________________________________________________________________\n"
          ],
          "name": "stdout"
        }
      ]
    },
    {
      "cell_type": "code",
      "metadata": {
        "id": "grcPfFraNMJl"
      },
      "source": [
        ""
      ],
      "execution_count": null,
      "outputs": []
    }
  ]
}
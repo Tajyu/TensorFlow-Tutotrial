{
  "nbformat": 4,
  "nbformat_minor": 0,
  "metadata": {
    "colab": {
      "name": "5.Validation(검증).ipynb",
      "provenance": [],
      "collapsed_sections": [],
      "authorship_tag": "ABX9TyPGZ25hdhgSmyjr5dKK0lkS",
      "include_colab_link": true
    },
    "kernelspec": {
      "name": "python3",
      "display_name": "Python 3"
    },
    "language_info": {
      "name": "python"
    },
    "accelerator": "GPU"
  },
  "cells": [
    {
      "cell_type": "markdown",
      "metadata": {
        "id": "view-in-github",
        "colab_type": "text"
      },
      "source": [
        "<a href=\"https://colab.research.google.com/github/Tajyu/TensorFlow-Tutotrial/blob/main/Simply_Write/5_Validation(%EA%B2%80%EC%A6%9D).ipynb\" target=\"_parent\"><img src=\"https://colab.research.google.com/assets/colab-badge.svg\" alt=\"Open In Colab\"/></a>"
      ]
    },
    {
      "cell_type": "markdown",
      "metadata": {
        "id": "ORG-PHA0dfrl"
      },
      "source": [
        "# **\"Training Dataset\"**를\n",
        "# **\"Train Data(학습/훈련용 데이터)\"**와 **\"Validation Data(검증 데이터)\"**로 나누어서 학습하고 검증한다.\n",
        "## 보통 7:3 or 8:2로 나눈다."
      ]
    },
    {
      "cell_type": "markdown",
      "metadata": {
        "id": "x41iAHYReHQF"
      },
      "source": [
        "## 학습 및 검증을 할떄 Train Data와 Validation Data가 몰려있어야한다."
      ]
    },
    {
      "cell_type": "code",
      "metadata": {
        "id": "lXIAryoUdU7i"
      },
      "source": [
        "import tensorflow as tf\n",
        "from tensorflow.keras.models import Sequential\n",
        "from tensorflow.keras.layers import Dense, Flatten\n",
        "import matplotlib.pyplot as plt"
      ],
      "execution_count": null,
      "outputs": []
    },
    {
      "cell_type": "code",
      "metadata": {
        "colab": {
          "base_uri": "https://localhost:8080/"
        },
        "id": "6N3_V0WgeW-Y",
        "outputId": "af6af282-efeb-49f7-cec8-45baa8136215"
      },
      "source": [
        "# Mnist 데이터 세트\n",
        "mnist = tf.keras.datasets.mnist\n",
        "(X, y), (x_test, y_tset) = mnist.load_data()"
      ],
      "execution_count": null,
      "outputs": [
        {
          "output_type": "stream",
          "text": [
            "Downloading data from https://storage.googleapis.com/tensorflow/tf-keras-datasets/mnist.npz\n",
            "11493376/11490434 [==============================] - 0s 0us/step\n"
          ],
          "name": "stdout"
        }
      ]
    },
    {
      "cell_type": "code",
      "metadata": {
        "id": "ULtD_pWWgDaO"
      },
      "source": [
        "# 모델 만들기 (다중분류)\n",
        "model = Sequential([\n",
        "                    Flatten(input_shape = (28, 28)),\n",
        "                    Dense(64, activation = \"relu\"),\n",
        "                    Dense(10, activation = \"softmax\")\n",
        "])"
      ],
      "execution_count": null,
      "outputs": []
    },
    {
      "cell_type": "code",
      "metadata": {
        "id": "ilpwbhWvgDVn"
      },
      "source": [
        "# 모델 컴파일\n",
        "model.compile(optimizer = \"adam\",\n",
        "              loss = \"sparse_categorical_crossentropy\",\n",
        "              metrics = [\"accuracy\"])"
      ],
      "execution_count": null,
      "outputs": []
    },
    {
      "cell_type": "markdown",
      "metadata": {
        "id": "kDk_VAgPgM35"
      },
      "source": [
        "## 검증데이터 나누는 방법 1"
      ]
    },
    {
      "cell_type": "code",
      "metadata": {
        "colab": {
          "base_uri": "https://localhost:8080/"
        },
        "id": "WW5SLWF_gMfR",
        "outputId": "d2b91b7a-0ce9-4419-b232-aa64646f6683"
      },
      "source": [
        "history = model.fit(X, y, validation_split = 0.2, epochs = 5, batch_size = 64, verbose = 1)"
      ],
      "execution_count": null,
      "outputs": [
        {
          "output_type": "stream",
          "text": [
            "Epoch 1/5\n",
            "750/750 [==============================] - 5s 2ms/step - loss: 3.0681 - accuracy: 0.7387 - val_loss: 0.6851 - val_accuracy: 0.8464\n",
            "Epoch 2/5\n",
            "750/750 [==============================] - 1s 2ms/step - loss: 0.5518 - accuracy: 0.8723 - val_loss: 0.4666 - val_accuracy: 0.8923\n",
            "Epoch 3/5\n",
            "750/750 [==============================] - 2s 2ms/step - loss: 0.4053 - accuracy: 0.9005 - val_loss: 0.3714 - val_accuracy: 0.9082\n",
            "Epoch 4/5\n",
            "750/750 [==============================] - 1s 2ms/step - loss: 0.3307 - accuracy: 0.9178 - val_loss: 0.3316 - val_accuracy: 0.9222\n",
            "Epoch 5/5\n",
            "750/750 [==============================] - 1s 2ms/step - loss: 0.2797 - accuracy: 0.9272 - val_loss: 0.3055 - val_accuracy: 0.9235\n"
          ],
          "name": "stdout"
        }
      ]
    },
    {
      "cell_type": "code",
      "metadata": {
        "colab": {
          "base_uri": "https://localhost:8080/",
          "height": 297
        },
        "id": "SMpUY1dBgfN5",
        "outputId": "b9409df9-9b0f-4627-cdb6-c3d01e93a097"
      },
      "source": [
        "plt.plot(history.history[\"val_accuracy\"])\n",
        "plt.plot(history.history[\"val_loss\"])\n",
        "plt.legend(history.history)\n",
        "plt.xlabel(\"epochs\")\n",
        "plt.ylabel(\"accuarcy\")"
      ],
      "execution_count": null,
      "outputs": [
        {
          "output_type": "execute_result",
          "data": {
            "text/plain": [
              "Text(0, 0.5, 'accuarcy')"
            ]
          },
          "metadata": {
            "tags": []
          },
          "execution_count": 12
        },
        {
          "output_type": "display_data",
          "data": {
            "image/png": "[encoded data removed]",
            "text/plain": [
              "<Figure size 432x288 with 1 Axes>"
            ]
          },
          "metadata": {
            "tags": [],
            "needs_background": "light"
          }
        }
      ]
    },
    {
      "cell_type": "markdown",
      "metadata": {
        "id": "1QaSnVj7haIl"
      },
      "source": [
        "## 검증데이터 나누는 방법 2"
      ]
    },
    {
      "cell_type": "code",
      "metadata": {
        "id": "NIeuFJazev2O"
      },
      "source": [
        "# Mnist 데이터 세트\n",
        "mnist = tf.keras.datasets.mnist\n",
        "(X, y), (x_test, y_tset) = mnist.load_data()"
      ],
      "execution_count": null,
      "outputs": []
    },
    {
      "cell_type": "code",
      "metadata": {
        "colab": {
          "base_uri": "https://localhost:8080/"
        },
        "id": "oqM4NPsphkRU",
        "outputId": "67c3e413-c89d-482b-cbee-aab2bcc6b66e"
      },
      "source": [
        "# train_test_split 활용\n",
        "from sklearn.model_selection import train_test_split\n",
        "x_train, x_val, y_train, y_val = train_test_split(X, y, test_size = 0.2)\n",
        "\n",
        "# 시퀀셜 모델 만들기\n",
        "model = Sequential([\n",
        "                    Flatten(input_shape = (28, 28)),\n",
        "                    Dense(64, activation = \"relu\"),\n",
        "                    Dense(10, activation = \"softmax\")\n",
        "])\n",
        "\n",
        "# 모델 컴파일\n",
        "model.compile(optimizer = \"adam\",\n",
        "              loss = \"sparse_categorical_crossentropy\",\n",
        "              metrics = [\"accuracy\"])\n",
        "\n",
        "# 훈련(학습) validation_data\n",
        "history = model.fit(x_train, y_train, validation_data = (x_val, y_val), epochs = 5, batch_size = 64)"
      ],
      "execution_count": null,
      "outputs": [
        {
          "output_type": "stream",
          "text": [
            "Epoch 1/5\n",
            "750/750 [==============================] - 2s 2ms/step - loss: 3.4249 - accuracy: 0.7732 - val_loss: 0.7635 - val_accuracy: 0.8131\n",
            "Epoch 2/5\n",
            "750/750 [==============================] - 2s 2ms/step - loss: 0.5333 - accuracy: 0.8680 - val_loss: 0.5094 - val_accuracy: 0.8827\n",
            "Epoch 3/5\n",
            "750/750 [==============================] - 1s 2ms/step - loss: 0.3673 - accuracy: 0.9077 - val_loss: 0.4409 - val_accuracy: 0.8992\n",
            "Epoch 4/5\n",
            "750/750 [==============================] - 2s 2ms/step - loss: 0.2919 - accuracy: 0.9237 - val_loss: 0.3620 - val_accuracy: 0.9222\n",
            "Epoch 5/5\n",
            "750/750 [==============================] - 1s 2ms/step - loss: 0.2606 - accuracy: 0.9309 - val_loss: 0.3629 - val_accuracy: 0.9183\n"
          ],
          "name": "stdout"
        }
      ]
    },
    {
      "cell_type": "code",
      "metadata": {
        "colab": {
          "base_uri": "https://localhost:8080/",
          "height": 297
        },
        "id": "t1_2cdRtiOaN",
        "outputId": "5c7b10fe-b6d0-4841-c727-854c7627bf12"
      },
      "source": [
        "plt.plot(history.history[\"val_accuracy\"])\n",
        "plt.plot(history.history[\"val_loss\"])\n",
        "plt.legend(history.history)\n",
        "plt.xlabel(\"epochs\")\n",
        "plt.ylabel(\"accuarcy\")"
      ],
      "execution_count": null,
      "outputs": [
        {
          "output_type": "execute_result",
          "data": {
            "text/plain": [
              "Text(0, 0.5, 'accuarcy')"
            ]
          },
          "metadata": {
            "tags": []
          },
          "execution_count": 13
        },
        {
          "output_type": "display_data",
          "data": {
            "image/png": "[encoded data removed]",
            "text/plain": [
              "<Figure size 432x288 with 1 Axes>"
            ]
          },
          "metadata": {
            "tags": [],
            "needs_background": "light"
          }
        }
      ]
    },
    {
      "cell_type": "code",
      "metadata": {
        "id": "hC-V18pwiSIT"
      },
      "source": [
        ""
      ],
      "execution_count": null,
      "outputs": []
    }
  ]
}